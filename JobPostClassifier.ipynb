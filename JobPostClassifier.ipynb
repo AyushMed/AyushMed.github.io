{
 "cells": [
  {
   "cell_type": "markdown",
   "id": "b25e0b11-15ad-4c5e-8308-01c5f4902fdd",
   "metadata": {
    "tags": []
   },
   "source": [
    "# Building a Job Posting Classifier!"
   ]
  },
  {
   "cell_type": "markdown",
   "id": "66b2160b-0294-4c02-b307-96b7a08dbc40",
   "metadata": {},
   "source": [
    "Going through an entire job application just to find out that it wasn't real is painful! However, it seems like a difficult task to determine if a job posting is fake or not just by the text in it. \n",
    "\n",
    "But is it?\n",
    "\n",
    "Here, we will explore using NLP analysis to gain insight into the legitimacy of job postings."
   ]
  },
  {
   "cell_type": "markdown",
   "id": "6b3a74c2-00fb-4d6e-8fbf-684f82fc3726",
   "metadata": {
    "tags": []
   },
   "source": [
    "## We'll start with some preprocessing:"
   ]
  },
  {
   "cell_type": "code",
   "execution_count": 2,
   "id": "1d54ed66-7489-4d5f-9843-69995e07f1e0",
   "metadata": {
    "tags": []
   },
   "outputs": [],
   "source": [
    "import numpy as np\n",
    "import pandas as pd\n",
    "from bs4 import BeautifulSoup  \n",
    "import tensorflow\n",
    "from tensorflow import keras\n",
    "from keras.layers import Dense, Dropout\n",
    "from keras.models import Sequential\n",
    "import matplotlib.pyplot as plt\n",
    "import re\n",
    "import nltk\n",
    "# nltk.download('wordnet')\n",
    "# nltk.download('stopwords')\n",
    "# nltk.download(\"punkt\")\n",
    "from nltk.corpus import stopwords\n",
    "from sklearn.feature_extraction.text import CountVectorizer\n",
    "from sklearn.ensemble import RandomForestClassifier\n",
    "from sklearn.linear_model import LogisticRegression\n",
    "from sklearn import svm\n",
    "from sklearn.metrics import auc, confusion_matrix, accuracy_score, recall_score, ConfusionMatrixDisplay, roc_auc_score, precision_recall_curve\n",
    "import xgboost as xgb"
   ]
  },
  {
   "cell_type": "code",
   "execution_count": 3,
   "id": "9cceae7c-fe91-46d8-877b-f1af24be7a7d",
   "metadata": {
    "tags": []
   },
   "outputs": [],
   "source": [
    "file = pd.read_csv(\"fake_job_postings.csv\")\n",
    "file = file.sample(frac = 1).reset_index(drop = True)   #this shuffles the rows around!"
   ]
  },
  {
   "cell_type": "code",
   "execution_count": 6,
   "id": "4c0718d6-cfc8-4525-b835-cfd574510c24",
   "metadata": {
    "tags": []
   },
   "outputs": [
    {
     "name": "stdout",
     "output_type": "stream",
     "text": [
      "<class 'pandas.core.frame.DataFrame'>\n",
      "RangeIndex: 17880 entries, 0 to 17879\n",
      "Data columns (total 18 columns):\n",
      " #   Column               Non-Null Count  Dtype \n",
      "---  ------               --------------  ----- \n",
      " 0   job_id               17880 non-null  int64 \n",
      " 1   title                17880 non-null  object\n",
      " 2   location             17534 non-null  object\n",
      " 3   department           6333 non-null   object\n",
      " 4   salary_range         2868 non-null   object\n",
      " 5   company_profile      14572 non-null  object\n",
      " 6   description          17879 non-null  object\n",
      " 7   requirements         15184 non-null  object\n",
      " 8   benefits             10668 non-null  object\n",
      " 9   telecommuting        17880 non-null  int64 \n",
      " 10  has_company_logo     17880 non-null  int64 \n",
      " 11  has_questions        17880 non-null  int64 \n",
      " 12  employment_type      14409 non-null  object\n",
      " 13  required_experience  10830 non-null  object\n",
      " 14  required_education   9775 non-null   object\n",
      " 15  industry             12977 non-null  object\n",
      " 16  function             11425 non-null  object\n",
      " 17  fraudulent           17880 non-null  int64 \n",
      "dtypes: int64(5), object(13)\n",
      "memory usage: 2.5+ MB\n"
     ]
    }
   ],
   "source": [
    "file.info()"
   ]
  },
  {
   "cell_type": "markdown",
   "id": "968ff982-3f19-47b7-a612-737ad8734c2e",
   "metadata": {},
   "source": [
    "It looks like quite a few columns have missing values. Let's see some examples."
   ]
  },
  {
   "cell_type": "code",
   "execution_count": 7,
   "id": "76cd32c7-4901-42db-bce5-cf50abc03a85",
   "metadata": {
    "tags": []
   },
   "outputs": [
    {
     "data": {
      "text/html": [
       "<div>\n",
       "<style scoped>\n",
       "    .dataframe tbody tr th:only-of-type {\n",
       "        vertical-align: middle;\n",
       "    }\n",
       "\n",
       "    .dataframe tbody tr th {\n",
       "        vertical-align: top;\n",
       "    }\n",
       "\n",
       "    .dataframe thead th {\n",
       "        text-align: right;\n",
       "    }\n",
       "</style>\n",
       "<table border=\"1\" class=\"dataframe\">\n",
       "  <thead>\n",
       "    <tr style=\"text-align: right;\">\n",
       "      <th></th>\n",
       "      <th>job_id</th>\n",
       "      <th>title</th>\n",
       "      <th>location</th>\n",
       "      <th>department</th>\n",
       "      <th>salary_range</th>\n",
       "      <th>company_profile</th>\n",
       "      <th>description</th>\n",
       "      <th>requirements</th>\n",
       "      <th>benefits</th>\n",
       "      <th>telecommuting</th>\n",
       "      <th>has_company_logo</th>\n",
       "      <th>has_questions</th>\n",
       "      <th>employment_type</th>\n",
       "      <th>required_experience</th>\n",
       "      <th>required_education</th>\n",
       "      <th>industry</th>\n",
       "      <th>function</th>\n",
       "      <th>fraudulent</th>\n",
       "    </tr>\n",
       "  </thead>\n",
       "  <tbody>\n",
       "    <tr>\n",
       "      <th>0</th>\n",
       "      <td>15057</td>\n",
       "      <td>Help Desk Engineer</td>\n",
       "      <td>US, DC, Washington</td>\n",
       "      <td>NaN</td>\n",
       "      <td>NaN</td>\n",
       "      <td>NaN</td>\n",
       "      <td>Job Description Responsibilities: • Team up wi...</td>\n",
       "      <td>NaN</td>\n",
       "      <td>NaN</td>\n",
       "      <td>0</td>\n",
       "      <td>0</td>\n",
       "      <td>0</td>\n",
       "      <td>NaN</td>\n",
       "      <td>NaN</td>\n",
       "      <td>NaN</td>\n",
       "      <td>NaN</td>\n",
       "      <td>NaN</td>\n",
       "      <td>0</td>\n",
       "    </tr>\n",
       "    <tr>\n",
       "      <th>1</th>\n",
       "      <td>12104</td>\n",
       "      <td>Product Manager</td>\n",
       "      <td>GB, , Madrid, Spain | London</td>\n",
       "      <td>Product Development</td>\n",
       "      <td>NaN</td>\n",
       "      <td>Glownet is the UK startup that is revolutioniz...</td>\n",
       "      <td>SummaryAre you a meticulous end user advocate,...</td>\n",
       "      <td>Fluent written and spoken English is a mustFlu...</td>\n",
       "      <td>We are open to considering candidates enrolled...</td>\n",
       "      <td>0</td>\n",
       "      <td>1</td>\n",
       "      <td>1</td>\n",
       "      <td>NaN</td>\n",
       "      <td>Associate</td>\n",
       "      <td>NaN</td>\n",
       "      <td>Computer Software</td>\n",
       "      <td>Product Management</td>\n",
       "      <td>0</td>\n",
       "    </tr>\n",
       "    <tr>\n",
       "      <th>2</th>\n",
       "      <td>10829</td>\n",
       "      <td>Estimating Admin</td>\n",
       "      <td>US, TX, Fort Worth</td>\n",
       "      <td>Estimating</td>\n",
       "      <td>NaN</td>\n",
       "      <td>Founded in 1974 in Canada, and in 1985 in the ...</td>\n",
       "      <td>The Estimating Admin will perform administrati...</td>\n",
       "      <td>To perform this job successfully, an individua...</td>\n",
       "      <td>Base, Bonus, Retirement, Time Off, Medical, De...</td>\n",
       "      <td>0</td>\n",
       "      <td>1</td>\n",
       "      <td>1</td>\n",
       "      <td>Full-time</td>\n",
       "      <td>Associate</td>\n",
       "      <td>High School or equivalent</td>\n",
       "      <td>Construction</td>\n",
       "      <td>Administrative</td>\n",
       "      <td>0</td>\n",
       "    </tr>\n",
       "  </tbody>\n",
       "</table>\n",
       "</div>"
      ],
      "text/plain": [
       "   job_id               title                      location   \n",
       "0   15057  Help Desk Engineer            US, DC, Washington  \\\n",
       "1   12104     Product Manager  GB, , Madrid, Spain | London   \n",
       "2   10829    Estimating Admin            US, TX, Fort Worth   \n",
       "\n",
       "            department salary_range   \n",
       "0                  NaN          NaN  \\\n",
       "1  Product Development          NaN   \n",
       "2           Estimating          NaN   \n",
       "\n",
       "                                     company_profile   \n",
       "0                                                NaN  \\\n",
       "1  Glownet is the UK startup that is revolutioniz...   \n",
       "2  Founded in 1974 in Canada, and in 1985 in the ...   \n",
       "\n",
       "                                         description   \n",
       "0  Job Description Responsibilities: • Team up wi...  \\\n",
       "1  SummaryAre you a meticulous end user advocate,...   \n",
       "2  The Estimating Admin will perform administrati...   \n",
       "\n",
       "                                        requirements   \n",
       "0                                                NaN  \\\n",
       "1  Fluent written and spoken English is a mustFlu...   \n",
       "2  To perform this job successfully, an individua...   \n",
       "\n",
       "                                            benefits  telecommuting   \n",
       "0                                                NaN              0  \\\n",
       "1  We are open to considering candidates enrolled...              0   \n",
       "2  Base, Bonus, Retirement, Time Off, Medical, De...              0   \n",
       "\n",
       "   has_company_logo  has_questions employment_type required_experience   \n",
       "0                 0              0             NaN                 NaN  \\\n",
       "1                 1              1             NaN           Associate   \n",
       "2                 1              1       Full-time           Associate   \n",
       "\n",
       "          required_education           industry            function   \n",
       "0                        NaN                NaN                 NaN  \\\n",
       "1                        NaN  Computer Software  Product Management   \n",
       "2  High School or equivalent       Construction      Administrative   \n",
       "\n",
       "   fraudulent  \n",
       "0           0  \n",
       "1           0  \n",
       "2           0  "
      ]
     },
     "execution_count": 7,
     "metadata": {},
     "output_type": "execute_result"
    }
   ],
   "source": [
    "file.head(3)"
   ]
  },
  {
   "cell_type": "markdown",
   "id": "61288dc5-fe9a-4a1a-9a44-73fc3cda77a8",
   "metadata": {},
   "source": [
    "#### Some of these columns are useless for determining whether the job is fake or not, so let's drop them."
   ]
  },
  {
   "cell_type": "code",
   "execution_count": 8,
   "id": "48ee16df-1978-4205-9006-faa2f09625c2",
   "metadata": {
    "tags": []
   },
   "outputs": [],
   "source": [
    "for col in [\"job_id\", \"salary_range\", \"telecommuting\", \"has_company_logo\", \"has_questions\", \"employment_type\"]:\n",
    "    file.drop(col, inplace = True, axis = 1)    "
   ]
  },
  {
   "cell_type": "markdown",
   "id": "3a082acc-6514-4113-b031-dbf5913f9730",
   "metadata": {},
   "source": [
    "#### Let's also fill in the Location and Department positions with the most common value"
   ]
  },
  {
   "cell_type": "code",
   "execution_count": 9,
   "id": "dedf5017-2b62-441b-bfa0-c0140ad1e228",
   "metadata": {
    "tags": []
   },
   "outputs": [],
   "source": [
    "for job in [\"location\", \"department\"]:\n",
    "    file[job] = file[job].fillna(file[job].value_counts().index[0])"
   ]
  },
  {
   "cell_type": "code",
   "execution_count": 10,
   "id": "d3c9d27f-43fb-4e5b-96e9-a6347ab2e54c",
   "metadata": {
    "tags": []
   },
   "outputs": [
    {
     "name": "stdout",
     "output_type": "stream",
     "text": [
      "17014\n"
     ]
    }
   ],
   "source": [
    "frauds = file[file[\"fraudulent\"] == 1]\n",
    "non_frauds = file[file[\"fraudulent\"] == 0]\n",
    "print(len(non_frauds))"
   ]
  },
  {
   "cell_type": "markdown",
   "id": "37210186-7f99-45b1-a282-be4694b59382",
   "metadata": {
    "tags": []
   },
   "source": [
    "## We will clean and preprocess the data to prepare it for our models."
   ]
  },
  {
   "cell_type": "markdown",
   "id": "5979e6f9-a4cf-448d-bde2-2651c321dea3",
   "metadata": {
    "tags": []
   },
   "source": [
    "### Data Cleaning with BeautifulSoup\n"
   ]
  },
  {
   "cell_type": "code",
   "execution_count": 17,
   "id": "3025dc22-a488-467c-aece-87289e56e35e",
   "metadata": {
    "tags": []
   },
   "outputs": [],
   "source": [
    "stops = set(stopwords.words(\"english\")) \n",
    "\n",
    "#1: Beautify the raw text (remove oddities, formatting, JSON, etc.)\n",
    "#2: Remove non-letters\n",
    "#3: Make everything lowercase \n",
    "#4: Remove stopwords (basic, non-informational words)\n",
    "\n",
    "def text_to_words(raw_text):\n",
    "    beautified = BeautifulSoup(raw_text).get_text()\n",
    "    letters_only = re.sub(\"[^a-zA-Z]\", \" \", beautified)\n",
    "    words = letters_only.lower().split()\n",
    "    useful_words = [w for w in words if not w in stops]\n",
    "    return(\" \".join(useful_words))   "
   ]
  },
  {
   "cell_type": "code",
   "execution_count": 18,
   "id": "2fd24bc8-cce3-4081-a915-6a8894ba3cc0",
   "metadata": {
    "tags": []
   },
   "outputs": [
    {
     "name": "stderr",
     "output_type": "stream",
     "text": [
      "C:\\Users\\aymed\\AppData\\Local\\Temp\\ipykernel_81064\\3992957516.py:9: MarkupResemblesLocatorWarning: The input looks more like a filename than markup. You may want to open this file and pass the filehandle into Beautiful Soup.\n",
      "  beautified = BeautifulSoup(raw_text).get_text()\n",
      "C:\\Users\\aymed\\AppData\\Local\\Temp\\ipykernel_81064\\3992957516.py:9: MarkupResemblesLocatorWarning: The input looks more like a filename than markup. You may want to open this file and pass the filehandle into Beautiful Soup.\n",
      "  beautified = BeautifulSoup(raw_text).get_text()\n",
      "C:\\Users\\aymed\\AppData\\Local\\Temp\\ipykernel_81064\\3992957516.py:9: MarkupResemblesLocatorWarning: The input looks more like a filename than markup. You may want to open this file and pass the filehandle into Beautiful Soup.\n",
      "  beautified = BeautifulSoup(raw_text).get_text()\n",
      "C:\\Users\\aymed\\AppData\\Local\\Temp\\ipykernel_81064\\3992957516.py:9: MarkupResemblesLocatorWarning: The input looks more like a filename than markup. You may want to open this file and pass the filehandle into Beautiful Soup.\n",
      "  beautified = BeautifulSoup(raw_text).get_text()\n",
      "C:\\Users\\aymed\\AppData\\Local\\Temp\\ipykernel_81064\\3992957516.py:9: MarkupResemblesLocatorWarning: The input looks more like a filename than markup. You may want to open this file and pass the filehandle into Beautiful Soup.\n",
      "  beautified = BeautifulSoup(raw_text).get_text()\n",
      "C:\\Users\\aymed\\AppData\\Local\\Temp\\ipykernel_81064\\3992957516.py:9: MarkupResemblesLocatorWarning: The input looks more like a filename than markup. You may want to open this file and pass the filehandle into Beautiful Soup.\n",
      "  beautified = BeautifulSoup(raw_text).get_text()\n",
      "C:\\Users\\aymed\\AppData\\Local\\Temp\\ipykernel_81064\\3992957516.py:9: MarkupResemblesLocatorWarning: The input looks more like a filename than markup. You may want to open this file and pass the filehandle into Beautiful Soup.\n",
      "  beautified = BeautifulSoup(raw_text).get_text()\n",
      "C:\\Users\\aymed\\AppData\\Local\\Temp\\ipykernel_81064\\3992957516.py:9: MarkupResemblesLocatorWarning: The input looks more like a filename than markup. You may want to open this file and pass the filehandle into Beautiful Soup.\n",
      "  beautified = BeautifulSoup(raw_text).get_text()\n",
      "C:\\Users\\aymed\\AppData\\Local\\Temp\\ipykernel_81064\\3992957516.py:9: MarkupResemblesLocatorWarning: The input looks more like a filename than markup. You may want to open this file and pass the filehandle into Beautiful Soup.\n",
      "  beautified = BeautifulSoup(raw_text).get_text()\n"
     ]
    }
   ],
   "source": [
    "clean_file = pd.DataFrame()\n",
    "for col in [\"title\", \"location\", \"department\", \"company_profile\", \"description\", \"requirements\", \"benefits\", \"required_experience\", \"required_education\", \"industry\", \"function\"]:\n",
    "    file[col]=file[col].apply(str)\n",
    "    clean_file[\"clean_{}\".format(col)] = file[col].apply(text_to_words)"
   ]
  },
  {
   "cell_type": "code",
   "execution_count": 19,
   "id": "b2a504e6-5a4b-4599-b180-8965df94f3a3",
   "metadata": {
    "tags": []
   },
   "outputs": [
    {
     "data": {
      "text/html": [
       "<div>\n",
       "<style scoped>\n",
       "    .dataframe tbody tr th:only-of-type {\n",
       "        vertical-align: middle;\n",
       "    }\n",
       "\n",
       "    .dataframe tbody tr th {\n",
       "        vertical-align: top;\n",
       "    }\n",
       "\n",
       "    .dataframe thead th {\n",
       "        text-align: right;\n",
       "    }\n",
       "</style>\n",
       "<table border=\"1\" class=\"dataframe\">\n",
       "  <thead>\n",
       "    <tr style=\"text-align: right;\">\n",
       "      <th></th>\n",
       "      <th>clean_title</th>\n",
       "      <th>clean_location</th>\n",
       "      <th>clean_department</th>\n",
       "      <th>clean_company_profile</th>\n",
       "      <th>clean_description</th>\n",
       "      <th>clean_requirements</th>\n",
       "      <th>clean_benefits</th>\n",
       "      <th>clean_required_experience</th>\n",
       "      <th>clean_required_education</th>\n",
       "      <th>clean_industry</th>\n",
       "      <th>clean_function</th>\n",
       "    </tr>\n",
       "  </thead>\n",
       "  <tbody>\n",
       "    <tr>\n",
       "      <th>0</th>\n",
       "      <td>help desk engineer</td>\n",
       "      <td>us dc washington</td>\n",
       "      <td>sales</td>\n",
       "      <td>nan</td>\n",
       "      <td>job description responsibilities team groups u...</td>\n",
       "      <td>nan</td>\n",
       "      <td>nan</td>\n",
       "      <td>nan</td>\n",
       "      <td>nan</td>\n",
       "      <td>nan</td>\n",
       "      <td>nan</td>\n",
       "    </tr>\n",
       "  </tbody>\n",
       "</table>\n",
       "</div>"
      ],
      "text/plain": [
       "          clean_title    clean_location clean_department   \n",
       "0  help desk engineer  us dc washington            sales  \\\n",
       "\n",
       "  clean_company_profile                                  clean_description   \n",
       "0                   nan  job description responsibilities team groups u...  \\\n",
       "\n",
       "  clean_requirements clean_benefits clean_required_experience   \n",
       "0                nan            nan                       nan  \\\n",
       "\n",
       "  clean_required_education clean_industry clean_function  \n",
       "0                      nan            nan            nan  "
      ]
     },
     "execution_count": 19,
     "metadata": {},
     "output_type": "execute_result"
    }
   ],
   "source": [
    "clean_file.head(1)"
   ]
  },
  {
   "cell_type": "markdown",
   "id": "40c16d52-7178-400d-bf46-f0f68e62e187",
   "metadata": {},
   "source": [
    "#### We will take our cleaned text and turn it all into a single string for processing."
   ]
  },
  {
   "cell_type": "code",
   "execution_count": 21,
   "id": "c9a743be-e48f-47bf-9e51-a86e6ebee5b8",
   "metadata": {
    "tags": []
   },
   "outputs": [
    {
     "data": {
      "text/plain": [
       "0    help desk engineer us dc washington sales nan ...\n",
       "1    product manager gb madrid spain london product...\n",
       "2    estimating admin us tx fort worth estimating f...\n",
       "3    digital marketing activator gb london sales te...\n",
       "4    project controls tech us co denver oil energy ...\n",
       "dtype: object"
      ]
     },
     "execution_count": 21,
     "metadata": {},
     "output_type": "execute_result"
    }
   ],
   "source": [
    "all_clean = clean_file.iloc[:,0]+\" \"+clean_file.iloc[:,1]+\" \"+clean_file.iloc[:,2]+\" \"+clean_file.iloc[:,3]+\\\n",
    "            \" \"+clean_file.iloc[:,4]+\" \"+clean_file.iloc[:,5]+\" \"+clean_file.iloc[:,6]+\" \"+clean_file.iloc[:,7]+\\\n",
    "            \" \"+clean_file.iloc[:,8]+\" \"+clean_file.iloc[:,9]+\" \"+clean_file.iloc[:,10]\n",
    "all_clean[:5]"
   ]
  },
  {
   "cell_type": "markdown",
   "id": "de1da02a-029e-4c6d-a175-ca5ffcbc8cf9",
   "metadata": {},
   "source": [
    "#### Now, we will use a Lemmatizer to group the words."
   ]
  },
  {
   "cell_type": "code",
   "execution_count": 22,
   "id": "ddbfaf6b-3034-4d8e-82f0-a601d375ed39",
   "metadata": {
    "tags": []
   },
   "outputs": [],
   "source": [
    "# Lemmatizing turns all variants of a word into the same word.\n",
    "# i.e. 'run', 'running', and 'ran' would all become run.\n",
    "\n",
    "w_tokenizer = nltk.tokenize.WhitespaceTokenizer()\n",
    "lemmatizer = nltk.stem.WordNetLemmatizer()\n",
    "def lemmatize_text(text):\n",
    "    return [lemmatizer.lemmatize(w) for w in w_tokenizer.tokenize(text)]\n",
    "\n",
    "complete_clean = all_clean.apply(lemmatize_text)\n",
    "complete_clean = pd.Series([' '.join(map(str, l)) for l in complete_clean])"
   ]
  },
  {
   "cell_type": "code",
   "execution_count": 23,
   "id": "224c5091-327f-43e3-9653-9adce4e97015",
   "metadata": {
    "tags": []
   },
   "outputs": [
    {
     "data": {
      "text/plain": [
       "0    help desk engineer u dc washington sale nan jo...\n",
       "1    product manager gb madrid spain london product...\n",
       "2    estimating admin u tx fort worth estimating fo...\n",
       "3    digital marketing activator gb london sale tec...\n",
       "4    project control tech u co denver oil energy st...\n",
       "dtype: object"
      ]
     },
     "execution_count": 23,
     "metadata": {},
     "output_type": "execute_result"
    }
   ],
   "source": [
    "complete_clean[:5]"
   ]
  },
  {
   "cell_type": "markdown",
   "id": "36946833-d880-4de3-b0da-ed45bfe83308",
   "metadata": {},
   "source": [
    "## We will first try to use Bag of Words (BoW) to classify the jobs!"
   ]
  },
  {
   "cell_type": "markdown",
   "id": "effc245d-98f2-4d70-9a46-a7ef7c28060d",
   "metadata": {
    "tags": []
   },
   "source": [
    "### Creating the Training and Testing Set"
   ]
  },
  {
   "cell_type": "code",
   "execution_count": 25,
   "id": "0342adf1-6fe8-4be4-b256-497c1b73228a",
   "metadata": {
    "tags": []
   },
   "outputs": [],
   "source": [
    "from sklearn.model_selection import train_test_split as tts\n",
    "X_train,X_test,y_train,y_test = tts(complete_clean,file[\"fraudulent\"], random_state = 9669, test_size = 0.2, shuffle=True, stratify = file[\"fraudulent\"])"
   ]
  },
  {
   "cell_type": "code",
   "execution_count": 26,
   "id": "366c3f60-d2b7-42a6-a136-ea1a926556d9",
   "metadata": {
    "tags": []
   },
   "outputs": [
    {
     "data": {
      "text/plain": [
       "((14304,),\n",
       " fraudulent\n",
       " 0    0.951552\n",
       " 1    0.048448\n",
       " Name: proportion, dtype: float64,\n",
       " fraudulent\n",
       " 0    0.951622\n",
       " 1    0.048378\n",
       " Name: proportion, dtype: float64)"
      ]
     },
     "execution_count": 26,
     "metadata": {},
     "output_type": "execute_result"
    }
   ],
   "source": [
    "X_train.shape,y_train.value_counts(normalize=True),y_test.value_counts(normalize=True)"
   ]
  },
  {
   "cell_type": "markdown",
   "id": "3d9b02d8-47a1-4ca6-82a6-5afa239d432d",
   "metadata": {
    "tags": []
   },
   "source": [
    "### Bag of Words"
   ]
  },
  {
   "cell_type": "code",
   "execution_count": 27,
   "id": "7e07f1da-380c-4d57-bbf6-fde9acfa868e",
   "metadata": {
    "tags": []
   },
   "outputs": [],
   "source": [
    "vectorizer = CountVectorizer(analyzer = \"word\", tokenizer = None, preprocessor = None, \n",
    "                             stop_words = None, max_features = 5000, ngram_range=(1,3)) \n",
    "vector = vectorizer.fit(list(X_train))"
   ]
  },
  {
   "cell_type": "code",
   "execution_count": 28,
   "id": "3346a679-7c6f-44cb-a15f-5049f1c2767c",
   "metadata": {
    "tags": []
   },
   "outputs": [],
   "source": [
    "train_features = vectorizer.transform(list(X_train)).toarray()\n",
    "test_features = vectorizer.transform(list(X_test)).toarray()"
   ]
  },
  {
   "cell_type": "code",
   "execution_count": 29,
   "id": "7751c578",
   "metadata": {
    "tags": []
   },
   "outputs": [],
   "source": [
    "df_features = pd.DataFrame(train_features)\n",
    "test_df = pd.DataFrame(test_features)"
   ]
  },
  {
   "cell_type": "code",
   "execution_count": 31,
   "id": "758ae1be-d76f-4998-bc33-47457cc6b454",
   "metadata": {
    "tags": []
   },
   "outputs": [
    {
     "data": {
      "text/html": [
       "<div>\n",
       "<style scoped>\n",
       "    .dataframe tbody tr th:only-of-type {\n",
       "        vertical-align: middle;\n",
       "    }\n",
       "\n",
       "    .dataframe tbody tr th {\n",
       "        vertical-align: top;\n",
       "    }\n",
       "\n",
       "    .dataframe thead th {\n",
       "        text-align: right;\n",
       "    }\n",
       "</style>\n",
       "<table border=\"1\" class=\"dataframe\">\n",
       "  <thead>\n",
       "    <tr style=\"text-align: right;\">\n",
       "      <th></th>\n",
       "      <th>0</th>\n",
       "      <th>1</th>\n",
       "      <th>2</th>\n",
       "      <th>3</th>\n",
       "      <th>4</th>\n",
       "      <th>5</th>\n",
       "      <th>6</th>\n",
       "      <th>7</th>\n",
       "      <th>8</th>\n",
       "      <th>9</th>\n",
       "      <th>...</th>\n",
       "      <th>4990</th>\n",
       "      <th>4991</th>\n",
       "      <th>4992</th>\n",
       "      <th>4993</th>\n",
       "      <th>4994</th>\n",
       "      <th>4995</th>\n",
       "      <th>4996</th>\n",
       "      <th>4997</th>\n",
       "      <th>4998</th>\n",
       "      <th>4999</th>\n",
       "    </tr>\n",
       "  </thead>\n",
       "  <tbody>\n",
       "    <tr>\n",
       "      <th>0</th>\n",
       "      <td>0</td>\n",
       "      <td>0</td>\n",
       "      <td>0</td>\n",
       "      <td>0</td>\n",
       "      <td>0</td>\n",
       "      <td>0</td>\n",
       "      <td>0</td>\n",
       "      <td>0</td>\n",
       "      <td>0</td>\n",
       "      <td>0</td>\n",
       "      <td>...</td>\n",
       "      <td>0</td>\n",
       "      <td>0</td>\n",
       "      <td>0</td>\n",
       "      <td>0</td>\n",
       "      <td>0</td>\n",
       "      <td>0</td>\n",
       "      <td>0</td>\n",
       "      <td>0</td>\n",
       "      <td>0</td>\n",
       "      <td>0</td>\n",
       "    </tr>\n",
       "    <tr>\n",
       "      <th>1</th>\n",
       "      <td>0</td>\n",
       "      <td>0</td>\n",
       "      <td>0</td>\n",
       "      <td>0</td>\n",
       "      <td>0</td>\n",
       "      <td>0</td>\n",
       "      <td>0</td>\n",
       "      <td>0</td>\n",
       "      <td>0</td>\n",
       "      <td>0</td>\n",
       "      <td>...</td>\n",
       "      <td>0</td>\n",
       "      <td>0</td>\n",
       "      <td>0</td>\n",
       "      <td>0</td>\n",
       "      <td>0</td>\n",
       "      <td>0</td>\n",
       "      <td>0</td>\n",
       "      <td>0</td>\n",
       "      <td>0</td>\n",
       "      <td>0</td>\n",
       "    </tr>\n",
       "    <tr>\n",
       "      <th>2</th>\n",
       "      <td>1</td>\n",
       "      <td>0</td>\n",
       "      <td>0</td>\n",
       "      <td>0</td>\n",
       "      <td>0</td>\n",
       "      <td>0</td>\n",
       "      <td>0</td>\n",
       "      <td>0</td>\n",
       "      <td>0</td>\n",
       "      <td>0</td>\n",
       "      <td>...</td>\n",
       "      <td>0</td>\n",
       "      <td>0</td>\n",
       "      <td>0</td>\n",
       "      <td>0</td>\n",
       "      <td>0</td>\n",
       "      <td>0</td>\n",
       "      <td>0</td>\n",
       "      <td>0</td>\n",
       "      <td>0</td>\n",
       "      <td>0</td>\n",
       "    </tr>\n",
       "    <tr>\n",
       "      <th>3</th>\n",
       "      <td>0</td>\n",
       "      <td>0</td>\n",
       "      <td>0</td>\n",
       "      <td>0</td>\n",
       "      <td>0</td>\n",
       "      <td>0</td>\n",
       "      <td>0</td>\n",
       "      <td>0</td>\n",
       "      <td>0</td>\n",
       "      <td>0</td>\n",
       "      <td>...</td>\n",
       "      <td>0</td>\n",
       "      <td>0</td>\n",
       "      <td>0</td>\n",
       "      <td>0</td>\n",
       "      <td>0</td>\n",
       "      <td>0</td>\n",
       "      <td>0</td>\n",
       "      <td>0</td>\n",
       "      <td>0</td>\n",
       "      <td>0</td>\n",
       "    </tr>\n",
       "    <tr>\n",
       "      <th>4</th>\n",
       "      <td>0</td>\n",
       "      <td>0</td>\n",
       "      <td>0</td>\n",
       "      <td>0</td>\n",
       "      <td>0</td>\n",
       "      <td>0</td>\n",
       "      <td>0</td>\n",
       "      <td>0</td>\n",
       "      <td>0</td>\n",
       "      <td>0</td>\n",
       "      <td>...</td>\n",
       "      <td>0</td>\n",
       "      <td>0</td>\n",
       "      <td>0</td>\n",
       "      <td>0</td>\n",
       "      <td>0</td>\n",
       "      <td>0</td>\n",
       "      <td>0</td>\n",
       "      <td>0</td>\n",
       "      <td>0</td>\n",
       "      <td>0</td>\n",
       "    </tr>\n",
       "    <tr>\n",
       "      <th>...</th>\n",
       "      <td>...</td>\n",
       "      <td>...</td>\n",
       "      <td>...</td>\n",
       "      <td>...</td>\n",
       "      <td>...</td>\n",
       "      <td>...</td>\n",
       "      <td>...</td>\n",
       "      <td>...</td>\n",
       "      <td>...</td>\n",
       "      <td>...</td>\n",
       "      <td>...</td>\n",
       "      <td>...</td>\n",
       "      <td>...</td>\n",
       "      <td>...</td>\n",
       "      <td>...</td>\n",
       "      <td>...</td>\n",
       "      <td>...</td>\n",
       "      <td>...</td>\n",
       "      <td>...</td>\n",
       "      <td>...</td>\n",
       "      <td>...</td>\n",
       "    </tr>\n",
       "    <tr>\n",
       "      <th>14299</th>\n",
       "      <td>0</td>\n",
       "      <td>0</td>\n",
       "      <td>0</td>\n",
       "      <td>0</td>\n",
       "      <td>0</td>\n",
       "      <td>0</td>\n",
       "      <td>0</td>\n",
       "      <td>0</td>\n",
       "      <td>0</td>\n",
       "      <td>0</td>\n",
       "      <td>...</td>\n",
       "      <td>2</td>\n",
       "      <td>1</td>\n",
       "      <td>0</td>\n",
       "      <td>0</td>\n",
       "      <td>0</td>\n",
       "      <td>0</td>\n",
       "      <td>0</td>\n",
       "      <td>0</td>\n",
       "      <td>0</td>\n",
       "      <td>0</td>\n",
       "    </tr>\n",
       "    <tr>\n",
       "      <th>14300</th>\n",
       "      <td>0</td>\n",
       "      <td>0</td>\n",
       "      <td>0</td>\n",
       "      <td>0</td>\n",
       "      <td>0</td>\n",
       "      <td>0</td>\n",
       "      <td>0</td>\n",
       "      <td>0</td>\n",
       "      <td>0</td>\n",
       "      <td>0</td>\n",
       "      <td>...</td>\n",
       "      <td>0</td>\n",
       "      <td>0</td>\n",
       "      <td>0</td>\n",
       "      <td>0</td>\n",
       "      <td>0</td>\n",
       "      <td>0</td>\n",
       "      <td>0</td>\n",
       "      <td>0</td>\n",
       "      <td>0</td>\n",
       "      <td>0</td>\n",
       "    </tr>\n",
       "    <tr>\n",
       "      <th>14301</th>\n",
       "      <td>0</td>\n",
       "      <td>0</td>\n",
       "      <td>0</td>\n",
       "      <td>0</td>\n",
       "      <td>0</td>\n",
       "      <td>0</td>\n",
       "      <td>0</td>\n",
       "      <td>0</td>\n",
       "      <td>0</td>\n",
       "      <td>0</td>\n",
       "      <td>...</td>\n",
       "      <td>0</td>\n",
       "      <td>0</td>\n",
       "      <td>0</td>\n",
       "      <td>0</td>\n",
       "      <td>0</td>\n",
       "      <td>0</td>\n",
       "      <td>0</td>\n",
       "      <td>0</td>\n",
       "      <td>0</td>\n",
       "      <td>0</td>\n",
       "    </tr>\n",
       "    <tr>\n",
       "      <th>14302</th>\n",
       "      <td>0</td>\n",
       "      <td>0</td>\n",
       "      <td>0</td>\n",
       "      <td>0</td>\n",
       "      <td>0</td>\n",
       "      <td>0</td>\n",
       "      <td>0</td>\n",
       "      <td>0</td>\n",
       "      <td>0</td>\n",
       "      <td>0</td>\n",
       "      <td>...</td>\n",
       "      <td>0</td>\n",
       "      <td>0</td>\n",
       "      <td>0</td>\n",
       "      <td>0</td>\n",
       "      <td>0</td>\n",
       "      <td>0</td>\n",
       "      <td>0</td>\n",
       "      <td>0</td>\n",
       "      <td>0</td>\n",
       "      <td>0</td>\n",
       "    </tr>\n",
       "    <tr>\n",
       "      <th>14303</th>\n",
       "      <td>0</td>\n",
       "      <td>0</td>\n",
       "      <td>0</td>\n",
       "      <td>0</td>\n",
       "      <td>0</td>\n",
       "      <td>0</td>\n",
       "      <td>0</td>\n",
       "      <td>0</td>\n",
       "      <td>0</td>\n",
       "      <td>0</td>\n",
       "      <td>...</td>\n",
       "      <td>0</td>\n",
       "      <td>0</td>\n",
       "      <td>0</td>\n",
       "      <td>0</td>\n",
       "      <td>0</td>\n",
       "      <td>0</td>\n",
       "      <td>0</td>\n",
       "      <td>0</td>\n",
       "      <td>0</td>\n",
       "      <td>0</td>\n",
       "    </tr>\n",
       "  </tbody>\n",
       "</table>\n",
       "<p>14304 rows × 5000 columns</p>\n",
       "</div>"
      ],
      "text/plain": [
       "       0     1     2     3     4     5     6     7     8     9     ...  4990   \n",
       "0         0     0     0     0     0     0     0     0     0     0  ...     0  \\\n",
       "1         0     0     0     0     0     0     0     0     0     0  ...     0   \n",
       "2         1     0     0     0     0     0     0     0     0     0  ...     0   \n",
       "3         0     0     0     0     0     0     0     0     0     0  ...     0   \n",
       "4         0     0     0     0     0     0     0     0     0     0  ...     0   \n",
       "...     ...   ...   ...   ...   ...   ...   ...   ...   ...   ...  ...   ...   \n",
       "14299     0     0     0     0     0     0     0     0     0     0  ...     2   \n",
       "14300     0     0     0     0     0     0     0     0     0     0  ...     0   \n",
       "14301     0     0     0     0     0     0     0     0     0     0  ...     0   \n",
       "14302     0     0     0     0     0     0     0     0     0     0  ...     0   \n",
       "14303     0     0     0     0     0     0     0     0     0     0  ...     0   \n",
       "\n",
       "       4991  4992  4993  4994  4995  4996  4997  4998  4999  \n",
       "0         0     0     0     0     0     0     0     0     0  \n",
       "1         0     0     0     0     0     0     0     0     0  \n",
       "2         0     0     0     0     0     0     0     0     0  \n",
       "3         0     0     0     0     0     0     0     0     0  \n",
       "4         0     0     0     0     0     0     0     0     0  \n",
       "...     ...   ...   ...   ...   ...   ...   ...   ...   ...  \n",
       "14299     1     0     0     0     0     0     0     0     0  \n",
       "14300     0     0     0     0     0     0     0     0     0  \n",
       "14301     0     0     0     0     0     0     0     0     0  \n",
       "14302     0     0     0     0     0     0     0     0     0  \n",
       "14303     0     0     0     0     0     0     0     0     0  \n",
       "\n",
       "[14304 rows x 5000 columns]"
      ]
     },
     "execution_count": 31,
     "metadata": {},
     "output_type": "execute_result"
    }
   ],
   "source": [
    "#This is the output file: Each column represents a word, and each row is a job.\n",
    "df_features"
   ]
  },
  {
   "cell_type": "markdown",
   "id": "87e3a3e8-1cb1-4dd5-b3ef-caf750051a4d",
   "metadata": {
    "tags": []
   },
   "source": [
    "### Trying out a few different ML models (RF, LR, SVM, XGB, NN)"
   ]
  },
  {
   "cell_type": "code",
   "execution_count": 67,
   "id": "327eaa03-f40a-428b-b5c0-c2d4799e4fb6",
   "metadata": {
    "tags": []
   },
   "outputs": [],
   "source": [
    "def test(type, df_features,y_train,y_test):\n",
    "    \n",
    "    fig, (ax1,ax2) = plt.subplots(nrows=2,figsize=(7,11))\n",
    "    if type == \"Random Forest\":\n",
    "        model = RandomForestClassifier(n_estimators = 100, random_state = 7643, verbose = False, n_jobs = -1) \n",
    "    elif type == \"Logistic Regression\":\n",
    "        model = LogisticRegression(random_state = 7643, verbose = False, n_jobs = -1) \n",
    "    # elif type == \"SVM\":\n",
    "    #     model = svm.LinearSVC(verbose = 1, C = 1.0)\n",
    "    elif type == \"XGBoost\":\n",
    "        model = xgb.XGBClassifier(n_estimators=100, objective='binary:logistic', verbose = False, n_jobs = -1)\n",
    "    elif type == \"NN\":\n",
    "        model = Sequential()\n",
    "        model.add(Dense(units = 100, activation = 'relu' , input_dim = df_features.shape[1]))\n",
    "        model.add(Dropout(0.5))\n",
    "        model.add(Dense(units = 1 , activation = 'sigmoid'))\n",
    "        model.compile(optimizer = 'adam' , loss = 'binary_crossentropy' , metrics = ['Precision','Recall'])\n",
    "        model.summary()\n",
    "        \n",
    "    if type == \"NN\":\n",
    "        model.fit(df_features,y_train, batch_size = 32, epochs = 10)\n",
    "        y_pred_proba = model.predict(test_df)\n",
    "        y_pred = [np.rint(y) for y in y_pred_proba]\n",
    "        precision, recall, _ = precision_recall_curve(y_test, y_pred_proba)\n",
    "        roc_auc = roc_auc_score(y_test,y_pred_proba)\n",
    "    else:\n",
    "        model.fit(df_features,y_train)\n",
    "        y_pred_proba = model.predict_proba(test_df)\n",
    "        y_pred = model.predict(test_df)\n",
    "        precision, recall, _ = precision_recall_curve(y_test, y_pred_proba[:,1])\n",
    "        roc_auc = roc_auc_score(y_test,y_pred_proba[:,1])\n",
    "        \n",
    "    conf = confusion_matrix(y_test, y_pred)\n",
    "    disp = ConfusionMatrixDisplay(conf)\n",
    "    disp.plot(ax = ax1)\n",
    "    ax1.set_title(\"Confusion Matrix\")\n",
    "    [[tn,fp],\n",
    "     [fn,tp]] = conf\n",
    "\n",
    "    print(type+\": \")\n",
    "    print(\"Accuracy: {:.3f}\".format((tp+tn)/(tp+tn+fp+fn)))\n",
    "    print(\"Precision: {:.3f}\".format((tp)/(tp+fp)))\n",
    "    print(\"Recall: {:.3f}\".format((tp)/(tp+fn)))\n",
    "    print(\"F1: {:.3f}\".format((2*((tp)/(tp+fp))*((tp)/(tp+fn)))/(((tp)/(tp+fp))+((tp)/(tp+fn)))))\n",
    "\n",
    "    print(\"AUPRC: {}\".format(auc(recall, precision)))\n",
    "    print(\"AUC: {}\".format(roc_auc))\n",
    "\n",
    "    ax2.set_title(\"Precision-Recall Curve\")\n",
    "    ax2.plot(recall, precision, marker='.', label=type)\n",
    "    ax2.set(xlabel='Recall',ylabel = 'Precision')\n",
    "    plt.show()\n"
   ]
  },
  {
   "cell_type": "code",
   "execution_count": 47,
   "id": "2b9e4a63-ff97-43b6-a2ae-7e447d7583eb",
   "metadata": {
    "tags": []
   },
   "outputs": [
    {
     "name": "stdout",
     "output_type": "stream",
     "text": [
      "Model: \"sequential_6\"\n",
      "_________________________________________________________________\n",
      " Layer (type)                Output Shape              Param #   \n",
      "=================================================================\n",
      " dense_16 (Dense)            (None, 100)               500100    \n",
      "                                                                 \n",
      " dropout_10 (Dropout)        (None, 100)               0         \n",
      "                                                                 \n",
      " dense_17 (Dense)            (None, 1)                 101       \n",
      "                                                                 \n",
      "=================================================================\n",
      "Total params: 500,201\n",
      "Trainable params: 500,201\n",
      "Non-trainable params: 0\n",
      "_________________________________________________________________\n",
      "Epoch 1/10\n",
      "447/447 [==============================] - 6s 12ms/step - loss: 0.1040 - precision: 0.8263 - recall: 0.3983\n",
      "Epoch 2/10\n",
      "447/447 [==============================] - 5s 11ms/step - loss: 0.0438 - precision: 0.9344 - recall: 0.7605\n",
      "Epoch 3/10\n",
      "447/447 [==============================] - 4s 9ms/step - loss: 0.0252 - precision: 0.9694 - recall: 0.8687\n",
      "Epoch 4/10\n",
      "447/447 [==============================] - 4s 9ms/step - loss: 0.0165 - precision: 0.9720 - recall: 0.9019\n",
      "Epoch 5/10\n",
      "447/447 [==============================] - 4s 10ms/step - loss: 0.0124 - precision: 0.9818 - recall: 0.9336\n",
      "Epoch 6/10\n",
      "447/447 [==============================] - 5s 11ms/step - loss: 0.0083 - precision: 0.9895 - recall: 0.9524\n",
      "Epoch 7/10\n",
      "447/447 [==============================] - 5s 11ms/step - loss: 0.0047 - precision: 0.9956 - recall: 0.9711\n",
      "Epoch 8/10\n",
      "447/447 [==============================] - 3s 8ms/step - loss: 0.0039 - precision: 0.9971 - recall: 0.9755\n",
      "Epoch 9/10\n",
      "447/447 [==============================] - 5s 10ms/step - loss: 0.0045 - precision: 0.9956 - recall: 0.9711\n",
      "Epoch 10/10\n",
      "447/447 [==============================] - 5s 12ms/step - loss: 0.0039 - precision: 0.9971 - recall: 0.9827\n",
      "112/112 [==============================] - 1s 5ms/step\n",
      "Accuracy: 0.986\n",
      "Precision: 0.865\n",
      "Recall: 0.850\n",
      "F1: 0.857\n",
      "AUPRC: 0.9192056528739635\n",
      "AUC: 0.9898984065403019\n"
     ]
    },
    {
     "data": {
      "image/png": "[encoded data removed]",
      "text/plain": [
       "<Figure size 700x1100 with 3 Axes>"
      ]
     },
     "metadata": {},
     "output_type": "display_data"
    }
   ],
   "source": [
    "test(\"NN\",df_features,y_train,y_test)"
   ]
  },
  {
   "cell_type": "markdown",
   "id": "4c52ec12-417a-4a7e-a106-e6e0608522f8",
   "metadata": {},
   "source": [
    "## As we can see from the above, the neural network is very good at classifying job posts, with an F1 Score of 0.86 and AUPRC of 0.92 even with a relatively small model."
   ]
  },
  {
   "cell_type": "code",
   "execution_count": 68,
   "id": "b03fa58c-89a3-4ad3-a13c-f3973446e4ca",
   "metadata": {
    "tags": []
   },
   "outputs": [
    {
     "name": "stdout",
     "output_type": "stream",
     "text": [
      "Random Forest: \n",
      "Accuracy: 0.980\n",
      "Precision: 1.000\n",
      "Recall: 0.584\n",
      "F1: 0.737\n",
      "AUPRC: 0.9180366750558338\n",
      "AUC: 0.9871517651035553\n"
     ]
    },
    {
     "data": {
      "image/png": "[encoded data removed]",
      "text/plain": [
       "<Figure size 700x1100 with 3 Axes>"
      ]
     },
     "metadata": {},
     "output_type": "display_data"
    },
    {
     "name": "stdout",
     "output_type": "stream",
     "text": [
      "Logistic Regression: \n",
      "Accuracy: 0.980\n",
      "Precision: 0.810\n",
      "Recall: 0.763\n",
      "F1: 0.786\n",
      "AUPRC: 0.8678616243164896\n",
      "AUC: 0.9787131042144045\n"
     ]
    },
    {
     "data": {
      "image/png": "[encoded data removed]",
      "text/plain": [
       "<Figure size 700x1100 with 3 Axes>"
      ]
     },
     "metadata": {},
     "output_type": "display_data"
    },
    {
     "name": "stdout",
     "output_type": "stream",
     "text": [
      "[14:49:12] WARNING: C:\\buildkite-agent\\builds\\buildkite-windows-cpu-autoscaling-group-i-07593ffd91cd9da33-1\\xgboost\\xgboost-ci-windows\\src\\learner.cc:767: \n",
      "Parameters: { \"verbose\" } are not used.\n",
      "\n",
      "XGBoost: \n",
      "Accuracy: 0.984\n",
      "Precision: 0.939\n",
      "Recall: 0.711\n",
      "F1: 0.809\n",
      "AUPRC: 0.9217820971351423\n",
      "AUC: 0.9845546007518018\n"
     ]
    },
    {
     "data": {
      "image/png": "[encoded data removed]",
      "text/plain": [
       "<Figure size 700x1100 with 3 Axes>"
      ]
     },
     "metadata": {},
     "output_type": "display_data"
    }
   ],
   "source": [
    "test(\"Random Forest\",df_features,y_train,y_test)\n",
    "test(\"Logistic Regression\",df_features,y_train,y_test)\n",
    "test(\"XGBoost\",df_features,y_train,y_test)"
   ]
  },
  {
   "cell_type": "markdown",
   "id": "8502e359-9735-412a-95f8-0ed2f0bd0466",
   "metadata": {},
   "source": [
    "## The above 3 are not as great:\n",
    "### Random Forest seems to be too conservative an might require sub-samples/bootstrapping\n",
    "### XGBoost accounts for some of the flaws of RF, but still fails to beat Logistic Regression\n",
    "### Logistic Regression does decently, but the NN still outperforms it"
   ]
  },
  {
   "cell_type": "markdown",
   "id": "c8561218-e590-4a2f-8198-46024b489bf2",
   "metadata": {},
   "source": [
    "# That does it! Thank you for exploring my analysis of fake vs real job posts!"
   ]
  }
 ],
 "metadata": {
  "kernelspec": {
   "display_name": "Python 3 (ipykernel)",
   "language": "python",
   "name": "python3"
  },
  "language_info": {
   "codemirror_mode": {
    "name": "ipython",
    "version": 3
   },
   "file_extension": ".py",
   "mimetype": "text/x-python",
   "name": "python",
   "nbconvert_exporter": "python",
   "pygments_lexer": "ipython3",
   "version": "3.11.3"
  }
 },
 "nbformat": 4,
 "nbformat_minor": 5
}
