{
 "cells": [
  {
   "cell_type": "markdown",
   "id": "cf138e6a-d3d0-461e-8a2c-302f9e25e69d",
   "metadata": {},
   "source": [
    "# Spaceship Titanic: 80+% Accuracy"
   ]
  },
  {
   "cell_type": "markdown",
   "id": "013c0544-a372-4ede-a903-f44dedb1ed23",
   "metadata": {},
   "source": [
    "This is a detailed dive into a high-scoring submission I built for Kaggle's Spaceship Titanic Challenge (https://www.kaggle.com/competitions/spaceship-titanic/overview)\n",
    "\n",
    "The goal is to predict which people survived this fabricated spacechip accident.\n",
    "The key to a high score is simply to dive deeply into the data and follow the breadcrumbs!\n",
    "\n",
    "An explanation of the data itself can be found using the above link. \n",
    "\n",
    "Now, let's explore how I achieved this result:"
   ]
  },
  {
   "cell_type": "code",
   "execution_count": 2,
   "id": "d22070d2-f1a8-4b80-bbef-486b2d2387ac",
   "metadata": {
    "tags": []
   },
   "outputs": [],
   "source": [
    "import numpy as np\n",
    "import pandas as pd\n",
    "import re\n",
    "import matplotlib.pyplot as plt\n",
    "from sklearn.preprocessing import LabelEncoder, OrdinalEncoder, OneHotEncoder, StandardScaler\n",
    "plt.rcParams[\"figure.figsize\"] = (12, 6)"
   ]
  },
  {
   "cell_type": "markdown",
   "id": "47aa7790-0dff-4d78-ab3b-bbb28b05b924",
   "metadata": {
    "tags": []
   },
   "source": [
    "# Reading + Feature Creation:"
   ]
  },
  {
   "cell_type": "code",
   "execution_count": 3,
   "id": "497fa20e-637c-40e2-91a3-b2acae8fee8b",
   "metadata": {
    "tags": []
   },
   "outputs": [],
   "source": [
    "titanic_data_train = pd.read_csv(\"train.csv\")\n",
    "train_size = titanic_data_train.shape[0]\n",
    "titanic_data_test = pd.read_csv(\"test.csv\")\n",
    "test_size = titanic_data_test.shape[0]\n",
    "test_passengerid = titanic_data_test[\"PassengerId\"]"
   ]
  },
  {
   "cell_type": "code",
   "execution_count": 4,
   "id": "6b36f178-6e01-4e2b-a187-4be7c5b9aee8",
   "metadata": {
    "tags": []
   },
   "outputs": [],
   "source": [
    "titanic = pd.concat([titanic_data_train, titanic_data_test]).reset_index()\n",
    "\n",
    "# extracting the group from the id\n",
    "titanic[\"PassengerGroup\"] = titanic[\"PassengerId\"].str[:4].astype(\"int64\")\n",
    "\n",
    "# extracting the side and deck from the cabin\n",
    "titanic[\"CabinSide\"] = titanic[\"Cabin\"].str[-1]\n",
    "titanic[\"CabinDeck\"] = titanic[\"Cabin\"].str[0]\n",
    "\n",
    "# creating group_size feature (always >= 1) and InGroup (True if > 1)\n",
    "group_size = titanic.groupby(\"PassengerGroup\")[\"PassengerId\"].count().sort_index()\n",
    "titanic[\"InGroup\"] = (group_size.loc[titanic['PassengerGroup']] > 1).reset_index(drop = True)\n",
    "\n",
    "# brief imputing with 0\n",
    "titanic[[\"RoomService\", \"FoodCourt\", \"ShoppingMall\", \"Spa\", \"VRDeck\"]] = titanic[[\"RoomService\", \"FoodCourt\", \"ShoppingMall\", \"Spa\", \"VRDeck\"]].fillna(0)\n",
    "\n",
    "# look at exploration below to see why some are 'good' and others are 'bad'\n",
    "titanic[\"GoodAmenities\"] = titanic[\"RoomService\"] + titanic[\"Spa\"] + titanic[\"VRDeck\"]\n",
    "titanic[\"BadAmenities\"] = titanic[\"FoodCourt\"] + titanic[\"ShoppingMall\"]\n",
    "titanic[\"Amenities\"] = titanic[\"GoodAmenities\"] + titanic[\"BadAmenities\"]"
   ]
  },
  {
   "cell_type": "markdown",
   "id": "74bc5b02-8136-4f46-b913-93cea2f8da34",
   "metadata": {
    "tags": []
   },
   "source": [
    "# Error Fixing:"
   ]
  },
  {
   "cell_type": "code",
   "execution_count": 5,
   "id": "724289df-cd41-415d-8922-ce6da46806a4",
   "metadata": {
    "tags": []
   },
   "outputs": [],
   "source": [
    "# Some people are supposedly in cryosleep, but spending money on amenities?!\n",
    "# The average transport rate of those people was ~36%, \n",
    "# so I decided they were probably mislabeled as being in cryosleep (where transport rate was ~80%)\n",
    "titanic.loc[(titanic[\"CryoSleep\"] == True) & (titanic[\"Amenities\"] > 0), \"CryoSleep\"] = False\n"
   ]
  },
  {
   "cell_type": "markdown",
   "id": "f8283e76-abe7-44c8-a61e-c4c749762fc8",
   "metadata": {
    "tags": []
   },
   "source": [
    "# Exploration"
   ]
  },
  {
   "cell_type": "code",
   "execution_count": 6,
   "id": "b5fd6a43-86ae-4caa-aa11-9e9083a3688a",
   "metadata": {
    "tags": []
   },
   "outputs": [
    {
     "name": "stdout",
     "output_type": "stream",
     "text": [
      "<class 'pandas.core.frame.DataFrame'>\n",
      "RangeIndex: 12970 entries, 0 to 12969\n",
      "Data columns (total 22 columns):\n",
      " #   Column          Non-Null Count  Dtype  \n",
      "---  ------          --------------  -----  \n",
      " 0   index           12970 non-null  int64  \n",
      " 1   PassengerId     12970 non-null  object \n",
      " 2   HomePlanet      12682 non-null  object \n",
      " 3   CryoSleep       12660 non-null  object \n",
      " 4   Cabin           12671 non-null  object \n",
      " 5   Destination     12696 non-null  object \n",
      " 6   Age             12700 non-null  float64\n",
      " 7   VIP             12674 non-null  object \n",
      " 8   RoomService     12970 non-null  float64\n",
      " 9   FoodCourt       12970 non-null  float64\n",
      " 10  ShoppingMall    12970 non-null  float64\n",
      " 11  Spa             12970 non-null  float64\n",
      " 12  VRDeck          12970 non-null  float64\n",
      " 13  Name            12676 non-null  object \n",
      " 14  Transported     8693 non-null   object \n",
      " 15  PassengerGroup  12970 non-null  int64  \n",
      " 16  CabinSide       12671 non-null  object \n",
      " 17  CabinDeck       12671 non-null  object \n",
      " 18  InGroup         12970 non-null  bool   \n",
      " 19  GoodAmenities   12970 non-null  float64\n",
      " 20  BadAmenities    12970 non-null  float64\n",
      " 21  Amenities       12970 non-null  float64\n",
      "dtypes: bool(1), float64(9), int64(2), object(10)\n",
      "memory usage: 2.1+ MB\n"
     ]
    }
   ],
   "source": [
    "titanic.info()"
   ]
  },
  {
   "cell_type": "code",
   "execution_count": 7,
   "id": "eabb557f-4c29-469a-b14a-c8502845c901",
   "metadata": {
    "tags": []
   },
   "outputs": [],
   "source": [
    "# Notes on each column:\n",
    "\n",
    "# HomePlanet:\n",
    "# Seems to have some significance (different transportation rates), \n",
    "# but not sure how to fill in 300 null values - maybe try looking at passenger groups \n",
    "# (since individuals in the same group probably came from the same planet) to help a little, \n",
    "# maybe fill in most popular for the rest\n",
    "\n",
    "# PassengerGroup:\n",
    "# Doesn't seem to be too helpful for predicting survival by itself, \n",
    "# since groups have a wide range of % transports, but since there are no NULL values,\n",
    "# it will be useful for figuring out other values like mentioned above\n",
    "\n",
    "# CryoSleep:\n",
    "# Highly significant, might be one of the biggest determiners of transportation (for those who chose it)\n",
    "# again, could we use passenger groups to assume cryosleep status?\n",
    "# maybe people wouldn't want to be out of cryosleep if their family is in cryosleep, and opposite too.\n",
    "\n",
    "# Cabin:\n",
    "# Slight difference in survival rates by CabinSide (Port or Starboard)\n",
    "# Big differences between 8 different kinds of decks, will probably label encode\n",
    "\n",
    "# Destination:\n",
    "# Pretty homogenous as expected, but worth keeping in anyway with label encoding?\n",
    "# slight differences between homeplanet-endplanet pairs, \n",
    "# maybe it's worth making that a set of 3x3 = 9 features?\n",
    "# i'd say consider replacing both label encoded features with 8 one-hots for each pair\n",
    "# might be worse who knows\n",
    "\n",
    "# Age: Kids transported more than adults\n",
    "# However, a large amount of 0 values makes me think there weren't a bunch of babies on board,\n",
    "# but rather a NULL equivalent - might want to impute those values too\n",
    "# for all people below 18, they should be part of a family, right? True... but some still seem legit otherwise,\n",
    "# except for the really young people\n",
    "\n",
    "# VIP: \n",
    "# pretty simple, slight difference, binary encoding, impute NULL with False (0)\n",
    "# not kids, usually spend a lot\n",
    "# one strange thing - why would anyone paying for vip want to be in cryosleep, where they can't experience it?\n",
    "# is that an error? they don't pay anything for amenities, which means they're probably in cryosleep,\n",
    "# but they are counted as vip, which might be wrong...?\n",
    "\n",
    "# All Payments:\n",
    "# CryoSleep = $0 payments for amenities, most non-asleep have some payments\n",
    "# !!! After further analysis of different amenities, I believe it is important to separate \n",
    "# FoodCourt and Shopping Mall as one feature, and the other three as another, \n",
    "# because of how the transport rates change as people spend more money on those 2 vs. the other 3\n",
    "\n",
    "# Name:\n",
    "# ...Nothing here\n",
    "# lots of similar last names (ridiculous ones) from different groups, might be not helpful"
   ]
  },
  {
   "cell_type": "markdown",
   "id": "13dd7ce0-6a63-401a-acb8-96eaddce8b50",
   "metadata": {
    "tags": []
   },
   "source": [
    "#### HomePlanet Analysis:"
   ]
  },
  {
   "cell_type": "code",
   "execution_count": 8,
   "id": "8b7827d4-56df-4cf6-8802-10ca6adb6b58",
   "metadata": {
    "tags": []
   },
   "outputs": [
    {
     "data": {
      "text/plain": [
       "HomePlanet\n",
       "Earth     6865\n",
       "Europa    3133\n",
       "Mars      2684\n",
       "Name: count, dtype: int64"
      ]
     },
     "execution_count": 8,
     "metadata": {},
     "output_type": "execute_result"
    }
   ],
   "source": [
    "titanic[\"HomePlanet\"].value_counts()"
   ]
  },
  {
   "cell_type": "code",
   "execution_count": 9,
   "id": "9ae6c412-57a5-45bb-b362-f91fb9dec8a7",
   "metadata": {
    "tags": []
   },
   "outputs": [
    {
     "data": {
      "text/plain": [
       "HomePlanet\n",
       "Earth     0.423946\n",
       "Mars      0.523024\n",
       "Europa    0.658846\n",
       "Name: Transported, dtype: object"
      ]
     },
     "execution_count": 9,
     "metadata": {},
     "output_type": "execute_result"
    }
   ],
   "source": [
    "titanic.groupby(\"HomePlanet\")[\"Transported\"].mean().sort_values()"
   ]
  },
  {
   "cell_type": "markdown",
   "id": "0a7abd3e-3714-439f-9f22-7d00298af332",
   "metadata": {
    "tags": []
   },
   "source": [
    "#### PassengerGroup Analysis:"
   ]
  },
  {
   "cell_type": "code",
   "execution_count": 10,
   "id": "3dcab639-6821-4ee2-ade3-444bc2b69888",
   "metadata": {
    "tags": []
   },
   "outputs": [],
   "source": [
    "group_size = titanic.groupby(\"PassengerGroup\")[\"PassengerId\"].count().sort_index()"
   ]
  },
  {
   "cell_type": "code",
   "execution_count": 11,
   "id": "87191c2f-3f78-49aa-a085-59a59fa65e27",
   "metadata": {
    "tags": []
   },
   "outputs": [],
   "source": [
    "group_survival = titanic.groupby(\"PassengerGroup\")[\"Transported\"].mean().sort_index()"
   ]
  },
  {
   "cell_type": "markdown",
   "id": "ccb65dda-12e9-4600-9c04-25f485d8fa48",
   "metadata": {
    "tags": []
   },
   "source": [
    "#### CryoSleep Analysis:"
   ]
  },
  {
   "cell_type": "code",
   "execution_count": 23,
   "id": "68f21b6a-e397-4598-845d-4b52fdd4bdc1",
   "metadata": {
    "tags": []
   },
   "outputs": [
    {
     "data": {
      "image/png": "[encoded data removed]",
      "text/plain": [
       "<Figure size 1200x600 with 1 Axes>"
      ]
     },
     "metadata": {},
     "output_type": "display_data"
    }
   ],
   "source": [
    "titanic.groupby(\"CryoSleep\")[\"Transported\"].mean().plot(kind = \"bar\", rot = 0)\n",
    "plt.title(\"Transport Rate by CryoSleep status\")\n",
    "plt.ylabel(\"Transport Rate\")\n",
    "plt.show()"
   ]
  },
  {
   "cell_type": "code",
   "execution_count": 34,
   "id": "d8a7e4e2-f0a9-4da7-8e71-3f9616bde1e5",
   "metadata": {
    "tags": []
   },
   "outputs": [
    {
     "data": {
      "text/plain": [
       "CryoSleep\n",
       "0.5    646\n",
       "0.0    627\n",
       "1.0    276\n",
       "Name: count, dtype: int64"
      ]
     },
     "execution_count": 34,
     "metadata": {},
     "output_type": "execute_result"
    }
   ],
   "source": [
    "group_cryosleep = titanic.groupby(\"PassengerGroup\")[\"CryoSleep\"].mean().sort_index()[group_size != 1]\n",
    "group_cryosleep.value_counts()[:3]"
   ]
  },
  {
   "cell_type": "code",
   "execution_count": 282,
   "id": "f6375592-bedb-466d-acd9-94a0ab10d827",
   "metadata": {},
   "outputs": [
    {
     "data": {
      "text/html": [
       "<div>\n",
       "<style scoped>\n",
       "    .dataframe tbody tr th:only-of-type {\n",
       "        vertical-align: middle;\n",
       "    }\n",
       "\n",
       "    .dataframe tbody tr th {\n",
       "        vertical-align: top;\n",
       "    }\n",
       "\n",
       "    .dataframe thead th {\n",
       "        text-align: right;\n",
       "    }\n",
       "</style>\n",
       "<table border=\"1\" class=\"dataframe\">\n",
       "  <thead>\n",
       "    <tr style=\"text-align: right;\">\n",
       "      <th></th>\n",
       "      <th>index</th>\n",
       "      <th>PassengerId</th>\n",
       "      <th>HomePlanet</th>\n",
       "      <th>CryoSleep</th>\n",
       "      <th>Cabin</th>\n",
       "      <th>Destination</th>\n",
       "      <th>Age</th>\n",
       "      <th>VIP</th>\n",
       "      <th>RoomService</th>\n",
       "      <th>FoodCourt</th>\n",
       "      <th>...</th>\n",
       "      <th>VRDeck</th>\n",
       "      <th>Name</th>\n",
       "      <th>Transported</th>\n",
       "      <th>PassengerGroup</th>\n",
       "      <th>CabinSide</th>\n",
       "      <th>CabinDeck</th>\n",
       "      <th>InGroup</th>\n",
       "      <th>GoodAmenities</th>\n",
       "      <th>BadAmenities</th>\n",
       "      <th>Amenities</th>\n",
       "    </tr>\n",
       "  </thead>\n",
       "  <tbody>\n",
       "    <tr>\n",
       "      <th>417</th>\n",
       "      <td>417</td>\n",
       "      <td>0454_01</td>\n",
       "      <td>Europa</td>\n",
       "      <td>True</td>\n",
       "      <td>B/15/S</td>\n",
       "      <td>55 Cancri e</td>\n",
       "      <td>28.0</td>\n",
       "      <td>True</td>\n",
       "      <td>5.0</td>\n",
       "      <td>4288.0</td>\n",
       "      <td>...</td>\n",
       "      <td>5.0</td>\n",
       "      <td>Tabius Geoconne</td>\n",
       "      <td>True</td>\n",
       "      <td>454</td>\n",
       "      <td>S</td>\n",
       "      <td>B</td>\n",
       "      <td>True</td>\n",
       "      <td>755.0</td>\n",
       "      <td>4288.0</td>\n",
       "      <td>5043.0</td>\n",
       "    </tr>\n",
       "    <tr>\n",
       "      <th>533</th>\n",
       "      <td>533</td>\n",
       "      <td>0568_01</td>\n",
       "      <td>Europa</td>\n",
       "      <td>True</td>\n",
       "      <td>D/20/S</td>\n",
       "      <td>TRAPPIST-1e</td>\n",
       "      <td>33.0</td>\n",
       "      <td>False</td>\n",
       "      <td>1908.0</td>\n",
       "      <td>33.0</td>\n",
       "      <td>...</td>\n",
       "      <td>4.0</td>\n",
       "      <td>Enibik Baciffhaut</td>\n",
       "      <td>False</td>\n",
       "      <td>568</td>\n",
       "      <td>S</td>\n",
       "      <td>D</td>\n",
       "      <td>True</td>\n",
       "      <td>1913.0</td>\n",
       "      <td>33.0</td>\n",
       "      <td>1946.0</td>\n",
       "    </tr>\n",
       "    <tr>\n",
       "      <th>1049</th>\n",
       "      <td>1049</td>\n",
       "      <td>1116_02</td>\n",
       "      <td>Earth</td>\n",
       "      <td>True</td>\n",
       "      <td>NaN</td>\n",
       "      <td>TRAPPIST-1e</td>\n",
       "      <td>36.0</td>\n",
       "      <td>False</td>\n",
       "      <td>0.0</td>\n",
       "      <td>3011.0</td>\n",
       "      <td>...</td>\n",
       "      <td>98.0</td>\n",
       "      <td>Evane Barnolaney</td>\n",
       "      <td>True</td>\n",
       "      <td>1116</td>\n",
       "      <td>S</td>\n",
       "      <td>G</td>\n",
       "      <td>True</td>\n",
       "      <td>98.0</td>\n",
       "      <td>3011.0</td>\n",
       "      <td>3109.0</td>\n",
       "    </tr>\n",
       "    <tr>\n",
       "      <th>1764</th>\n",
       "      <td>1764</td>\n",
       "      <td>1874_02</td>\n",
       "      <td>Earth</td>\n",
       "      <td>True</td>\n",
       "      <td>F/374/P</td>\n",
       "      <td>PSO J318.5-22</td>\n",
       "      <td>29.0</td>\n",
       "      <td>False</td>\n",
       "      <td>0.0</td>\n",
       "      <td>0.0</td>\n",
       "      <td>...</td>\n",
       "      <td>1479.0</td>\n",
       "      <td>Vanley Woodgezalez</td>\n",
       "      <td>False</td>\n",
       "      <td>1874</td>\n",
       "      <td>P</td>\n",
       "      <td>F</td>\n",
       "      <td>True</td>\n",
       "      <td>1965.0</td>\n",
       "      <td>0.0</td>\n",
       "      <td>1965.0</td>\n",
       "    </tr>\n",
       "    <tr>\n",
       "      <th>1770</th>\n",
       "      <td>1770</td>\n",
       "      <td>1882_01</td>\n",
       "      <td>Europa</td>\n",
       "      <td>True</td>\n",
       "      <td>C/71/S</td>\n",
       "      <td>55 Cancri e</td>\n",
       "      <td>18.0</td>\n",
       "      <td>False</td>\n",
       "      <td>0.0</td>\n",
       "      <td>16263.0</td>\n",
       "      <td>...</td>\n",
       "      <td>15.0</td>\n",
       "      <td>Magnon Antcal</td>\n",
       "      <td>True</td>\n",
       "      <td>1882</td>\n",
       "      <td>S</td>\n",
       "      <td>C</td>\n",
       "      <td>True</td>\n",
       "      <td>15.0</td>\n",
       "      <td>16335.0</td>\n",
       "      <td>16350.0</td>\n",
       "    </tr>\n",
       "  </tbody>\n",
       "</table>\n",
       "<p>5 rows × 22 columns</p>\n",
       "</div>"
      ],
      "text/plain": [
       "      index PassengerId HomePlanet CryoSleep    Cabin    Destination   Age  \\\n",
       "417     417     0454_01     Europa      True   B/15/S    55 Cancri e  28.0   \n",
       "533     533     0568_01     Europa      True   D/20/S    TRAPPIST-1e  33.0   \n",
       "1049   1049     1116_02      Earth      True      NaN    TRAPPIST-1e  36.0   \n",
       "1764   1764     1874_02      Earth      True  F/374/P  PSO J318.5-22  29.0   \n",
       "1770   1770     1882_01     Europa      True   C/71/S    55 Cancri e  18.0   \n",
       "\n",
       "        VIP  RoomService  FoodCourt  ...  VRDeck                Name  \\\n",
       "417    True          5.0     4288.0  ...     5.0     Tabius Geoconne   \n",
       "533   False       1908.0       33.0  ...     4.0   Enibik Baciffhaut   \n",
       "1049  False          0.0     3011.0  ...    98.0    Evane Barnolaney   \n",
       "1764  False          0.0        0.0  ...  1479.0  Vanley Woodgezalez   \n",
       "1770  False          0.0    16263.0  ...    15.0       Magnon Antcal   \n",
       "\n",
       "      Transported PassengerGroup CabinSide  CabinDeck InGroup GoodAmenities  \\\n",
       "417          True            454         S          B    True         755.0   \n",
       "533         False            568         S          D    True        1913.0   \n",
       "1049         True           1116         S          G    True          98.0   \n",
       "1764        False           1874         P          F    True        1965.0   \n",
       "1770         True           1882         S          C    True          15.0   \n",
       "\n",
       "      BadAmenities  Amenities  \n",
       "417         4288.0     5043.0  \n",
       "533           33.0     1946.0  \n",
       "1049        3011.0     3109.0  \n",
       "1764           0.0     1965.0  \n",
       "1770       16335.0    16350.0  \n",
       "\n",
       "[5 rows x 22 columns]"
      ]
     },
     "execution_count": 282,
     "metadata": {},
     "output_type": "execute_result"
    }
   ],
   "source": [
    "titanic.loc[(titanic[\"CryoSleep\"] == True) & (titanic[\"Amenities\"] > 0)].head()"
   ]
  },
  {
   "cell_type": "code",
   "execution_count": 37,
   "id": "f6e71fcc-94f8-4795-a9b0-258afb03fa17",
   "metadata": {
    "tags": []
   },
   "outputs": [
    {
     "data": {
      "text/html": [
       "<div>\n",
       "<style scoped>\n",
       "    .dataframe tbody tr th:only-of-type {\n",
       "        vertical-align: middle;\n",
       "    }\n",
       "\n",
       "    .dataframe tbody tr th {\n",
       "        vertical-align: top;\n",
       "    }\n",
       "\n",
       "    .dataframe thead th {\n",
       "        text-align: right;\n",
       "    }\n",
       "</style>\n",
       "<table border=\"1\" class=\"dataframe\">\n",
       "  <thead>\n",
       "    <tr style=\"text-align: right;\">\n",
       "      <th></th>\n",
       "      <th>index</th>\n",
       "      <th>PassengerId</th>\n",
       "      <th>HomePlanet</th>\n",
       "      <th>CryoSleep</th>\n",
       "      <th>Cabin</th>\n",
       "      <th>Destination</th>\n",
       "      <th>Age</th>\n",
       "      <th>VIP</th>\n",
       "      <th>RoomService</th>\n",
       "      <th>FoodCourt</th>\n",
       "      <th>...</th>\n",
       "      <th>VRDeck</th>\n",
       "      <th>Name</th>\n",
       "      <th>Transported</th>\n",
       "      <th>PassengerGroup</th>\n",
       "      <th>CabinSide</th>\n",
       "      <th>CabinDeck</th>\n",
       "      <th>InGroup</th>\n",
       "      <th>GoodAmenities</th>\n",
       "      <th>BadAmenities</th>\n",
       "      <th>Amenities</th>\n",
       "    </tr>\n",
       "  </thead>\n",
       "  <tbody>\n",
       "    <tr>\n",
       "      <th>0</th>\n",
       "      <td>0</td>\n",
       "      <td>0001_01</td>\n",
       "      <td>Europa</td>\n",
       "      <td>False</td>\n",
       "      <td>B/0/P</td>\n",
       "      <td>TRAPPIST-1e</td>\n",
       "      <td>39.0</td>\n",
       "      <td>False</td>\n",
       "      <td>0.0</td>\n",
       "      <td>0.0</td>\n",
       "      <td>...</td>\n",
       "      <td>0.0</td>\n",
       "      <td>Maham Ofracculy</td>\n",
       "      <td>False</td>\n",
       "      <td>1</td>\n",
       "      <td>P</td>\n",
       "      <td>B</td>\n",
       "      <td>False</td>\n",
       "      <td>0.0</td>\n",
       "      <td>0.0</td>\n",
       "      <td>0.0</td>\n",
       "    </tr>\n",
       "    <tr>\n",
       "      <th>19</th>\n",
       "      <td>19</td>\n",
       "      <td>0017_01</td>\n",
       "      <td>Earth</td>\n",
       "      <td>False</td>\n",
       "      <td>G/0/P</td>\n",
       "      <td>TRAPPIST-1e</td>\n",
       "      <td>0.0</td>\n",
       "      <td>False</td>\n",
       "      <td>0.0</td>\n",
       "      <td>0.0</td>\n",
       "      <td>...</td>\n",
       "      <td>0.0</td>\n",
       "      <td>Lyde Brighttt</td>\n",
       "      <td>True</td>\n",
       "      <td>17</td>\n",
       "      <td>P</td>\n",
       "      <td>G</td>\n",
       "      <td>True</td>\n",
       "      <td>0.0</td>\n",
       "      <td>0.0</td>\n",
       "      <td>0.0</td>\n",
       "    </tr>\n",
       "    <tr>\n",
       "      <th>24</th>\n",
       "      <td>24</td>\n",
       "      <td>0020_04</td>\n",
       "      <td>Earth</td>\n",
       "      <td>False</td>\n",
       "      <td>E/0/S</td>\n",
       "      <td>TRAPPIST-1e</td>\n",
       "      <td>10.0</td>\n",
       "      <td>False</td>\n",
       "      <td>0.0</td>\n",
       "      <td>0.0</td>\n",
       "      <td>...</td>\n",
       "      <td>0.0</td>\n",
       "      <td>Breney Jacostanley</td>\n",
       "      <td>True</td>\n",
       "      <td>20</td>\n",
       "      <td>S</td>\n",
       "      <td>E</td>\n",
       "      <td>True</td>\n",
       "      <td>0.0</td>\n",
       "      <td>0.0</td>\n",
       "      <td>0.0</td>\n",
       "    </tr>\n",
       "    <tr>\n",
       "      <th>26</th>\n",
       "      <td>26</td>\n",
       "      <td>0020_06</td>\n",
       "      <td>Earth</td>\n",
       "      <td>False</td>\n",
       "      <td>E/0/S</td>\n",
       "      <td>TRAPPIST-1e</td>\n",
       "      <td>7.0</td>\n",
       "      <td>False</td>\n",
       "      <td>0.0</td>\n",
       "      <td>0.0</td>\n",
       "      <td>...</td>\n",
       "      <td>0.0</td>\n",
       "      <td>Terta Mcfaddennon</td>\n",
       "      <td>False</td>\n",
       "      <td>20</td>\n",
       "      <td>S</td>\n",
       "      <td>E</td>\n",
       "      <td>True</td>\n",
       "      <td>0.0</td>\n",
       "      <td>0.0</td>\n",
       "      <td>0.0</td>\n",
       "    </tr>\n",
       "    <tr>\n",
       "      <th>34</th>\n",
       "      <td>34</td>\n",
       "      <td>0031_02</td>\n",
       "      <td>Mars</td>\n",
       "      <td>False</td>\n",
       "      <td>F/9/P</td>\n",
       "      <td>TRAPPIST-1e</td>\n",
       "      <td>2.0</td>\n",
       "      <td>False</td>\n",
       "      <td>0.0</td>\n",
       "      <td>0.0</td>\n",
       "      <td>...</td>\n",
       "      <td>0.0</td>\n",
       "      <td>Cinets Datie</td>\n",
       "      <td>True</td>\n",
       "      <td>31</td>\n",
       "      <td>P</td>\n",
       "      <td>F</td>\n",
       "      <td>True</td>\n",
       "      <td>0.0</td>\n",
       "      <td>0.0</td>\n",
       "      <td>0.0</td>\n",
       "    </tr>\n",
       "    <tr>\n",
       "      <th>...</th>\n",
       "      <td>...</td>\n",
       "      <td>...</td>\n",
       "      <td>...</td>\n",
       "      <td>...</td>\n",
       "      <td>...</td>\n",
       "      <td>...</td>\n",
       "      <td>...</td>\n",
       "      <td>...</td>\n",
       "      <td>...</td>\n",
       "      <td>...</td>\n",
       "      <td>...</td>\n",
       "      <td>...</td>\n",
       "      <td>...</td>\n",
       "      <td>...</td>\n",
       "      <td>...</td>\n",
       "      <td>...</td>\n",
       "      <td>...</td>\n",
       "      <td>...</td>\n",
       "      <td>...</td>\n",
       "      <td>...</td>\n",
       "      <td>...</td>\n",
       "    </tr>\n",
       "    <tr>\n",
       "      <th>12805</th>\n",
       "      <td>4112</td>\n",
       "      <td>8933_01</td>\n",
       "      <td>Mars</td>\n",
       "      <td>False</td>\n",
       "      <td>E/572/P</td>\n",
       "      <td>TRAPPIST-1e</td>\n",
       "      <td>22.0</td>\n",
       "      <td>False</td>\n",
       "      <td>0.0</td>\n",
       "      <td>0.0</td>\n",
       "      <td>...</td>\n",
       "      <td>0.0</td>\n",
       "      <td>Terek Brazo</td>\n",
       "      <td>NaN</td>\n",
       "      <td>8933</td>\n",
       "      <td>P</td>\n",
       "      <td>E</td>\n",
       "      <td>False</td>\n",
       "      <td>0.0</td>\n",
       "      <td>0.0</td>\n",
       "      <td>0.0</td>\n",
       "    </tr>\n",
       "    <tr>\n",
       "      <th>12818</th>\n",
       "      <td>4125</td>\n",
       "      <td>8960_01</td>\n",
       "      <td>Earth</td>\n",
       "      <td>False</td>\n",
       "      <td>G/1444/S</td>\n",
       "      <td>TRAPPIST-1e</td>\n",
       "      <td>0.0</td>\n",
       "      <td>False</td>\n",
       "      <td>0.0</td>\n",
       "      <td>0.0</td>\n",
       "      <td>...</td>\n",
       "      <td>0.0</td>\n",
       "      <td>Benja Solon</td>\n",
       "      <td>NaN</td>\n",
       "      <td>8960</td>\n",
       "      <td>S</td>\n",
       "      <td>G</td>\n",
       "      <td>True</td>\n",
       "      <td>0.0</td>\n",
       "      <td>0.0</td>\n",
       "      <td>0.0</td>\n",
       "    </tr>\n",
       "    <tr>\n",
       "      <th>12824</th>\n",
       "      <td>4131</td>\n",
       "      <td>8971_01</td>\n",
       "      <td>Europa</td>\n",
       "      <td>False</td>\n",
       "      <td>B/290/P</td>\n",
       "      <td>TRAPPIST-1e</td>\n",
       "      <td>46.0</td>\n",
       "      <td>False</td>\n",
       "      <td>0.0</td>\n",
       "      <td>0.0</td>\n",
       "      <td>...</td>\n",
       "      <td>0.0</td>\n",
       "      <td>Betenar Reetholt</td>\n",
       "      <td>NaN</td>\n",
       "      <td>8971</td>\n",
       "      <td>P</td>\n",
       "      <td>B</td>\n",
       "      <td>False</td>\n",
       "      <td>0.0</td>\n",
       "      <td>0.0</td>\n",
       "      <td>0.0</td>\n",
       "    </tr>\n",
       "    <tr>\n",
       "      <th>12947</th>\n",
       "      <td>4254</td>\n",
       "      <td>9238_01</td>\n",
       "      <td>Earth</td>\n",
       "      <td>False</td>\n",
       "      <td>G/1501/P</td>\n",
       "      <td>TRAPPIST-1e</td>\n",
       "      <td>10.0</td>\n",
       "      <td>False</td>\n",
       "      <td>0.0</td>\n",
       "      <td>0.0</td>\n",
       "      <td>...</td>\n",
       "      <td>0.0</td>\n",
       "      <td>Joana Garnettiz</td>\n",
       "      <td>NaN</td>\n",
       "      <td>9238</td>\n",
       "      <td>P</td>\n",
       "      <td>G</td>\n",
       "      <td>True</td>\n",
       "      <td>0.0</td>\n",
       "      <td>0.0</td>\n",
       "      <td>0.0</td>\n",
       "    </tr>\n",
       "    <tr>\n",
       "      <th>12952</th>\n",
       "      <td>4259</td>\n",
       "      <td>9238_06</td>\n",
       "      <td>Earth</td>\n",
       "      <td>False</td>\n",
       "      <td>G/1501/P</td>\n",
       "      <td>55 Cancri e</td>\n",
       "      <td>0.0</td>\n",
       "      <td>False</td>\n",
       "      <td>0.0</td>\n",
       "      <td>0.0</td>\n",
       "      <td>...</td>\n",
       "      <td>0.0</td>\n",
       "      <td>Blance Garnettiz</td>\n",
       "      <td>NaN</td>\n",
       "      <td>9238</td>\n",
       "      <td>P</td>\n",
       "      <td>G</td>\n",
       "      <td>True</td>\n",
       "      <td>0.0</td>\n",
       "      <td>0.0</td>\n",
       "      <td>0.0</td>\n",
       "    </tr>\n",
       "  </tbody>\n",
       "</table>\n",
       "<p>740 rows × 22 columns</p>\n",
       "</div>"
      ],
      "text/plain": [
       "       index PassengerId HomePlanet CryoSleep     Cabin  Destination   Age   \n",
       "0          0     0001_01     Europa     False     B/0/P  TRAPPIST-1e  39.0  \\\n",
       "19        19     0017_01      Earth     False     G/0/P  TRAPPIST-1e   0.0   \n",
       "24        24     0020_04      Earth     False     E/0/S  TRAPPIST-1e  10.0   \n",
       "26        26     0020_06      Earth     False     E/0/S  TRAPPIST-1e   7.0   \n",
       "34        34     0031_02       Mars     False     F/9/P  TRAPPIST-1e   2.0   \n",
       "...      ...         ...        ...       ...       ...          ...   ...   \n",
       "12805   4112     8933_01       Mars     False   E/572/P  TRAPPIST-1e  22.0   \n",
       "12818   4125     8960_01      Earth     False  G/1444/S  TRAPPIST-1e   0.0   \n",
       "12824   4131     8971_01     Europa     False   B/290/P  TRAPPIST-1e  46.0   \n",
       "12947   4254     9238_01      Earth     False  G/1501/P  TRAPPIST-1e  10.0   \n",
       "12952   4259     9238_06      Earth     False  G/1501/P  55 Cancri e   0.0   \n",
       "\n",
       "         VIP  RoomService  FoodCourt  ...  VRDeck                Name   \n",
       "0      False          0.0        0.0  ...     0.0     Maham Ofracculy  \\\n",
       "19     False          0.0        0.0  ...     0.0       Lyde Brighttt   \n",
       "24     False          0.0        0.0  ...     0.0  Breney Jacostanley   \n",
       "26     False          0.0        0.0  ...     0.0   Terta Mcfaddennon   \n",
       "34     False          0.0        0.0  ...     0.0        Cinets Datie   \n",
       "...      ...          ...        ...  ...     ...                 ...   \n",
       "12805  False          0.0        0.0  ...     0.0         Terek Brazo   \n",
       "12818  False          0.0        0.0  ...     0.0         Benja Solon   \n",
       "12824  False          0.0        0.0  ...     0.0    Betenar Reetholt   \n",
       "12947  False          0.0        0.0  ...     0.0     Joana Garnettiz   \n",
       "12952  False          0.0        0.0  ...     0.0    Blance Garnettiz   \n",
       "\n",
       "       Transported PassengerGroup CabinSide  CabinDeck InGroup GoodAmenities   \n",
       "0            False              1         P          B   False           0.0  \\\n",
       "19            True             17         P          G    True           0.0   \n",
       "24            True             20         S          E    True           0.0   \n",
       "26           False             20         S          E    True           0.0   \n",
       "34            True             31         P          F    True           0.0   \n",
       "...            ...            ...       ...        ...     ...           ...   \n",
       "12805          NaN           8933         P          E   False           0.0   \n",
       "12818          NaN           8960         S          G    True           0.0   \n",
       "12824          NaN           8971         P          B   False           0.0   \n",
       "12947          NaN           9238         P          G    True           0.0   \n",
       "12952          NaN           9238         P          G    True           0.0   \n",
       "\n",
       "       BadAmenities  Amenities  \n",
       "0               0.0        0.0  \n",
       "19              0.0        0.0  \n",
       "24              0.0        0.0  \n",
       "26              0.0        0.0  \n",
       "34              0.0        0.0  \n",
       "...             ...        ...  \n",
       "12805           0.0        0.0  \n",
       "12818           0.0        0.0  \n",
       "12824           0.0        0.0  \n",
       "12947           0.0        0.0  \n",
       "12952           0.0        0.0  \n",
       "\n",
       "[740 rows x 22 columns]"
      ]
     },
     "execution_count": 37,
     "metadata": {},
     "output_type": "execute_result"
    }
   ],
   "source": [
    "titanic[(titanic[\"CryoSleep\"] == False) & (titanic[\"Amenities\"] == 0)]"
   ]
  },
  {
   "cell_type": "markdown",
   "id": "6a85a247-7372-49f1-b077-23abcf3fa9b3",
   "metadata": {
    "tags": []
   },
   "source": [
    "#### Cabin Analysis:"
   ]
  },
  {
   "cell_type": "code",
   "execution_count": 149,
   "id": "4785bb0d-f818-410a-8719-3f0a66019022",
   "metadata": {},
   "outputs": [
    {
     "data": {
      "image/png": "[encoded data removed]",
      "text/plain": [
       "<Figure size 864x432 with 1 Axes>"
      ]
     },
     "metadata": {
      "needs_background": "light"
     },
     "output_type": "display_data"
    }
   ],
   "source": [
    "titanic.groupby(\"CabinSide\")[\"Transported\"].mean().plot(kind = \"barh\")\n",
    "plt.title(\"Transport Rate by Cabin Side\")\n",
    "plt.show()"
   ]
  },
  {
   "cell_type": "code",
   "execution_count": 155,
   "id": "d8618b77-3a3e-4736-b490-c01d07079b14",
   "metadata": {},
   "outputs": [
    {
     "data": {
      "text/plain": [
       "CabinDeck\n",
       "B    0.734275\n",
       "C    0.680054\n",
       "G    0.516217\n",
       "A    0.496094\n",
       "F    0.439871\n",
       "D    0.433054\n",
       "E    0.357306\n",
       "T    0.200000\n",
       "Name: Transported, dtype: float64"
      ]
     },
     "execution_count": 155,
     "metadata": {},
     "output_type": "execute_result"
    }
   ],
   "source": [
    "titanic.groupby(\"CabinDeck\")[\"Transported\"].mean().sort_values(ascending = False)"
   ]
  },
  {
   "cell_type": "markdown",
   "id": "f091b3a0-43ab-4d90-b347-178b320edf61",
   "metadata": {
    "tags": []
   },
   "source": [
    "#### Destination Analysis:"
   ]
  },
  {
   "cell_type": "code",
   "execution_count": 161,
   "id": "c242f4a1-dcfc-44da-9602-a33e4a669305",
   "metadata": {},
   "outputs": [
    {
     "data": {
      "text/plain": [
       "TRAPPIST-1e      8871\n",
       "55 Cancri e      2641\n",
       "PSO J318.5-22    1184\n",
       "Name: Destination, dtype: int64"
      ]
     },
     "execution_count": 161,
     "metadata": {},
     "output_type": "execute_result"
    }
   ],
   "source": [
    "titanic[\"Destination\"].value_counts()"
   ]
  },
  {
   "cell_type": "code",
   "execution_count": 162,
   "id": "50f90454-b81e-4cdf-8d2c-05a128f3f5ca",
   "metadata": {},
   "outputs": [
    {
     "data": {
      "text/plain": [
       "Destination\n",
       "55 Cancri e      0.610000\n",
       "PSO J318.5-22    0.503769\n",
       "TRAPPIST-1e      0.471175\n",
       "Name: Transported, dtype: float64"
      ]
     },
     "execution_count": 162,
     "metadata": {},
     "output_type": "execute_result"
    }
   ],
   "source": [
    "titanic.groupby(\"Destination\")[\"Transported\"].mean()"
   ]
  },
  {
   "cell_type": "code",
   "execution_count": 173,
   "id": "89666d98-6c7f-4e0a-a7ee-5a258fb986e0",
   "metadata": {},
   "outputs": [
    {
     "data": {
      "text/plain": [
       "Destination\n",
       "55 Cancri e      0.504348\n",
       "PSO J318.5-22    0.498596\n",
       "TRAPPIST-1e      0.389229\n",
       "Name: Transported, dtype: float64"
      ]
     },
     "execution_count": 173,
     "metadata": {},
     "output_type": "execute_result"
    }
   ],
   "source": [
    "titanic[titanic[\"HomePlanet\"] == \"Earth\"].groupby(\"Destination\")[\"Transported\"].mean()"
   ]
  },
  {
   "cell_type": "code",
   "execution_count": 174,
   "id": "6fd03cc1-e02e-44b3-86ca-4ae0cca15efd",
   "metadata": {},
   "outputs": [
    {
     "data": {
      "text/plain": [
       "Destination\n",
       "55 Cancri e      0.689616\n",
       "PSO J318.5-22    0.736842\n",
       "TRAPPIST-1e      0.634987\n",
       "Name: Transported, dtype: float64"
      ]
     },
     "execution_count": 174,
     "metadata": {},
     "output_type": "execute_result"
    }
   ],
   "source": [
    "titanic[titanic[\"HomePlanet\"] == \"Europa\"].groupby(\"Destination\")[\"Transported\"].mean()"
   ]
  },
  {
   "cell_type": "code",
   "execution_count": 175,
   "id": "80953ee0-980c-41a9-bf19-84fdd5557914",
   "metadata": {},
   "outputs": [
    {
     "data": {
      "text/plain": [
       "Destination\n",
       "55 Cancri e      0.611399\n",
       "PSO J318.5-22    0.448980\n",
       "TRAPPIST-1e      0.511864\n",
       "Name: Transported, dtype: float64"
      ]
     },
     "execution_count": 175,
     "metadata": {},
     "output_type": "execute_result"
    }
   ],
   "source": [
    "titanic[titanic[\"HomePlanet\"] == \"Mars\"].groupby(\"Destination\")[\"Transported\"].mean()"
   ]
  },
  {
   "cell_type": "markdown",
   "id": "711a895c-ed0f-4f46-a86e-ee9feb1de5ed",
   "metadata": {
    "tags": []
   },
   "source": [
    "#### Age Analysis:"
   ]
  },
  {
   "cell_type": "code",
   "execution_count": 88,
   "id": "dd28196e-5c77-4cf6-9581-cc81a74a9faa",
   "metadata": {
    "tags": []
   },
   "outputs": [
    {
     "data": {
      "image/png": "[encoded data removed]",
      "text/plain": [
       "<Figure size 1200x600 with 1 Axes>"
      ]
     },
     "metadata": {},
     "output_type": "display_data"
    }
   ],
   "source": [
    "transported_by_age = titanic.groupby(\"Age\")[[\"Transported\"]].mean().reset_index()\n",
    "transported_by_age.plot(x=\"Age\",y=\"Transported\", kind=\"scatter\", s=25,rot = 45)\n",
    "plt.ylabel(\"Transport Rate\")\n",
    "plt.title(\"Transport Rate by Age\")\n",
    "plt.show()"
   ]
  },
  {
   "cell_type": "code",
   "execution_count": 87,
   "id": "67cf7be2-bb72-4ef5-a2a7-f96bd98143fb",
   "metadata": {
    "tags": []
   },
   "outputs": [
    {
     "data": {
      "image/png": "[encoded data removed]",
      "text/plain": [
       "<Figure size 1200x600 with 1 Axes>"
      ]
     },
     "metadata": {},
     "output_type": "display_data"
    }
   ],
   "source": [
    "titanic[\"Age\"].value_counts().sort_index().plot()\n",
    "plt.title(\"Frequency of All Ages on the Spaceship\")\n",
    "plt.ylabel(\"Frequency\")\n",
    "plt.show()"
   ]
  },
  {
   "cell_type": "code",
   "execution_count": 90,
   "id": "8886fdfd-c9a8-48b6-bb16-f5c8b36a94e9",
   "metadata": {
    "tags": []
   },
   "outputs": [
    {
     "data": {
      "image/png": "[encoded data removed]",
      "text/plain": [
       "<Figure size 1200x600 with 1 Axes>"
      ]
     },
     "metadata": {},
     "output_type": "display_data"
    }
   ],
   "source": [
    "titanic[titanic[\"HomePlanet\"] == \"Earth\"][\"Age\"].value_counts().sort_index().plot()\n",
    "plt.ylabel(\"Frequency\")\n",
    "plt.title(\"Frequency of All Ages of People from Earth\")\n",
    "plt.show()"
   ]
  },
  {
   "cell_type": "code",
   "execution_count": 91,
   "id": "7fe95f10-f46c-4463-8102-0bdedeef66a3",
   "metadata": {
    "tags": []
   },
   "outputs": [
    {
     "data": {
      "image/png": "[encoded data removed]",
      "text/plain": [
       "<Figure size 1200x600 with 1 Axes>"
      ]
     },
     "metadata": {},
     "output_type": "display_data"
    }
   ],
   "source": [
    "titanic[titanic[\"HomePlanet\"] == \"Europa\"][\"Age\"].value_counts().sort_index().plot()\n",
    "plt.ylabel(\"Frequency\")\n",
    "plt.title(\"Frequency of All Ages of People from Europa\")\n",
    "plt.show()"
   ]
  },
  {
   "cell_type": "code",
   "execution_count": 92,
   "id": "37ba2198-7507-4476-bc6f-2c4980e0b23d",
   "metadata": {
    "tags": []
   },
   "outputs": [
    {
     "data": {
      "image/png": "[encoded data removed]",
      "text/plain": [
       "<Figure size 1200x600 with 1 Axes>"
      ]
     },
     "metadata": {},
     "output_type": "display_data"
    }
   ],
   "source": [
    "titanic[titanic[\"HomePlanet\"] == \"Mars\"][\"Age\"].value_counts().sort_index().plot()\n",
    "plt.ylabel(\"Frequency\")\n",
    "plt.title(\"Frequency of All Ages of People from Mars\")\n",
    "plt.show()"
   ]
  },
  {
   "cell_type": "code",
   "execution_count": 395,
   "id": "9f7cb3cb-44b7-4abe-a446-05f468ca3b1c",
   "metadata": {},
   "outputs": [
    {
     "data": {
      "text/html": [
       "<div>\n",
       "<style scoped>\n",
       "    .dataframe tbody tr th:only-of-type {\n",
       "        vertical-align: middle;\n",
       "    }\n",
       "\n",
       "    .dataframe tbody tr th {\n",
       "        vertical-align: top;\n",
       "    }\n",
       "\n",
       "    .dataframe thead th {\n",
       "        text-align: right;\n",
       "    }\n",
       "</style>\n",
       "<table border=\"1\" class=\"dataframe\">\n",
       "  <thead>\n",
       "    <tr style=\"text-align: right;\">\n",
       "      <th></th>\n",
       "      <th>index</th>\n",
       "      <th>PassengerId</th>\n",
       "      <th>HomePlanet</th>\n",
       "      <th>CryoSleep</th>\n",
       "      <th>Cabin</th>\n",
       "      <th>Destination</th>\n",
       "      <th>Age</th>\n",
       "      <th>VIP</th>\n",
       "      <th>RoomService</th>\n",
       "      <th>FoodCourt</th>\n",
       "      <th>...</th>\n",
       "      <th>VRDeck</th>\n",
       "      <th>Name</th>\n",
       "      <th>Transported</th>\n",
       "      <th>PassengerGroup</th>\n",
       "      <th>CabinSide</th>\n",
       "      <th>CabinDeck</th>\n",
       "      <th>InGroup</th>\n",
       "      <th>GoodAmenities</th>\n",
       "      <th>BadAmenities</th>\n",
       "      <th>Amenities</th>\n",
       "    </tr>\n",
       "  </thead>\n",
       "  <tbody>\n",
       "    <tr>\n",
       "      <th>308</th>\n",
       "      <td>308</td>\n",
       "      <td>0341_01</td>\n",
       "      <td>Earth</td>\n",
       "      <td>True</td>\n",
       "      <td>G/57/P</td>\n",
       "      <td>PSO J318.5-22</td>\n",
       "      <td>5.0</td>\n",
       "      <td>False</td>\n",
       "      <td>0.0</td>\n",
       "      <td>0.0</td>\n",
       "      <td>...</td>\n",
       "      <td>0.0</td>\n",
       "      <td>Lorian Webstephrey</td>\n",
       "      <td>False</td>\n",
       "      <td>341</td>\n",
       "      <td>P</td>\n",
       "      <td>G</td>\n",
       "      <td>False</td>\n",
       "      <td>0.0</td>\n",
       "      <td>0.0</td>\n",
       "      <td>0.0</td>\n",
       "    </tr>\n",
       "    <tr>\n",
       "      <th>585</th>\n",
       "      <td>585</td>\n",
       "      <td>0608_01</td>\n",
       "      <td>Earth</td>\n",
       "      <td>False</td>\n",
       "      <td>G/94/P</td>\n",
       "      <td>TRAPPIST-1e</td>\n",
       "      <td>7.0</td>\n",
       "      <td>False</td>\n",
       "      <td>0.0</td>\n",
       "      <td>0.0</td>\n",
       "      <td>...</td>\n",
       "      <td>0.0</td>\n",
       "      <td>Maril Rilley</td>\n",
       "      <td>True</td>\n",
       "      <td>608</td>\n",
       "      <td>P</td>\n",
       "      <td>G</td>\n",
       "      <td>False</td>\n",
       "      <td>0.0</td>\n",
       "      <td>0.0</td>\n",
       "      <td>0.0</td>\n",
       "    </tr>\n",
       "    <tr>\n",
       "      <th>625</th>\n",
       "      <td>625</td>\n",
       "      <td>0650_01</td>\n",
       "      <td>Earth</td>\n",
       "      <td>True</td>\n",
       "      <td>G/95/S</td>\n",
       "      <td>PSO J318.5-22</td>\n",
       "      <td>3.0</td>\n",
       "      <td>False</td>\n",
       "      <td>0.0</td>\n",
       "      <td>0.0</td>\n",
       "      <td>...</td>\n",
       "      <td>0.0</td>\n",
       "      <td>Eulah Hammonton</td>\n",
       "      <td>True</td>\n",
       "      <td>650</td>\n",
       "      <td>S</td>\n",
       "      <td>G</td>\n",
       "      <td>False</td>\n",
       "      <td>0.0</td>\n",
       "      <td>0.0</td>\n",
       "      <td>0.0</td>\n",
       "    </tr>\n",
       "    <tr>\n",
       "      <th>748</th>\n",
       "      <td>748</td>\n",
       "      <td>0787_01</td>\n",
       "      <td>Earth</td>\n",
       "      <td>True</td>\n",
       "      <td>G/114/P</td>\n",
       "      <td>TRAPPIST-1e</td>\n",
       "      <td>7.0</td>\n",
       "      <td>False</td>\n",
       "      <td>0.0</td>\n",
       "      <td>0.0</td>\n",
       "      <td>...</td>\n",
       "      <td>0.0</td>\n",
       "      <td>Ritany Quinnerry</td>\n",
       "      <td>False</td>\n",
       "      <td>787</td>\n",
       "      <td>P</td>\n",
       "      <td>G</td>\n",
       "      <td>False</td>\n",
       "      <td>0.0</td>\n",
       "      <td>0.0</td>\n",
       "      <td>0.0</td>\n",
       "    </tr>\n",
       "    <tr>\n",
       "      <th>763</th>\n",
       "      <td>763</td>\n",
       "      <td>0802_01</td>\n",
       "      <td>Mars</td>\n",
       "      <td>True</td>\n",
       "      <td>F/148/S</td>\n",
       "      <td>TRAPPIST-1e</td>\n",
       "      <td>1.0</td>\n",
       "      <td>False</td>\n",
       "      <td>0.0</td>\n",
       "      <td>0.0</td>\n",
       "      <td>...</td>\n",
       "      <td>0.0</td>\n",
       "      <td>Plat Pimne</td>\n",
       "      <td>True</td>\n",
       "      <td>802</td>\n",
       "      <td>S</td>\n",
       "      <td>F</td>\n",
       "      <td>False</td>\n",
       "      <td>0.0</td>\n",
       "      <td>0.0</td>\n",
       "      <td>0.0</td>\n",
       "    </tr>\n",
       "    <tr>\n",
       "      <th>...</th>\n",
       "      <td>...</td>\n",
       "      <td>...</td>\n",
       "      <td>...</td>\n",
       "      <td>...</td>\n",
       "      <td>...</td>\n",
       "      <td>...</td>\n",
       "      <td>...</td>\n",
       "      <td>...</td>\n",
       "      <td>...</td>\n",
       "      <td>...</td>\n",
       "      <td>...</td>\n",
       "      <td>...</td>\n",
       "      <td>...</td>\n",
       "      <td>...</td>\n",
       "      <td>...</td>\n",
       "      <td>...</td>\n",
       "      <td>...</td>\n",
       "      <td>...</td>\n",
       "      <td>...</td>\n",
       "      <td>...</td>\n",
       "      <td>...</td>\n",
       "    </tr>\n",
       "    <tr>\n",
       "      <th>12206</th>\n",
       "      <td>3513</td>\n",
       "      <td>7619_01</td>\n",
       "      <td>Earth</td>\n",
       "      <td>True</td>\n",
       "      <td>G/1236/S</td>\n",
       "      <td>TRAPPIST-1e</td>\n",
       "      <td>8.0</td>\n",
       "      <td>False</td>\n",
       "      <td>0.0</td>\n",
       "      <td>0.0</td>\n",
       "      <td>...</td>\n",
       "      <td>0.0</td>\n",
       "      <td>Calvia Reidershley</td>\n",
       "      <td>NaN</td>\n",
       "      <td>7619</td>\n",
       "      <td>S</td>\n",
       "      <td>G</td>\n",
       "      <td>False</td>\n",
       "      <td>0.0</td>\n",
       "      <td>0.0</td>\n",
       "      <td>0.0</td>\n",
       "    </tr>\n",
       "    <tr>\n",
       "      <th>12678</th>\n",
       "      <td>3985</td>\n",
       "      <td>8689_01</td>\n",
       "      <td>Earth</td>\n",
       "      <td>True</td>\n",
       "      <td>G/1408/P</td>\n",
       "      <td>TRAPPIST-1e</td>\n",
       "      <td>6.0</td>\n",
       "      <td>False</td>\n",
       "      <td>0.0</td>\n",
       "      <td>0.0</td>\n",
       "      <td>...</td>\n",
       "      <td>0.0</td>\n",
       "      <td>Guye Harrenoldez</td>\n",
       "      <td>NaN</td>\n",
       "      <td>8689</td>\n",
       "      <td>P</td>\n",
       "      <td>G</td>\n",
       "      <td>False</td>\n",
       "      <td>0.0</td>\n",
       "      <td>0.0</td>\n",
       "      <td>0.0</td>\n",
       "    </tr>\n",
       "    <tr>\n",
       "      <th>12697</th>\n",
       "      <td>4004</td>\n",
       "      <td>8725_01</td>\n",
       "      <td>Earth</td>\n",
       "      <td>True</td>\n",
       "      <td>G/1405/S</td>\n",
       "      <td>TRAPPIST-1e</td>\n",
       "      <td>7.0</td>\n",
       "      <td>False</td>\n",
       "      <td>0.0</td>\n",
       "      <td>0.0</td>\n",
       "      <td>...</td>\n",
       "      <td>0.0</td>\n",
       "      <td>Antony Barks</td>\n",
       "      <td>NaN</td>\n",
       "      <td>8725</td>\n",
       "      <td>S</td>\n",
       "      <td>G</td>\n",
       "      <td>False</td>\n",
       "      <td>0.0</td>\n",
       "      <td>0.0</td>\n",
       "      <td>0.0</td>\n",
       "    </tr>\n",
       "    <tr>\n",
       "      <th>12866</th>\n",
       "      <td>4173</td>\n",
       "      <td>9054_01</td>\n",
       "      <td>Earth</td>\n",
       "      <td>True</td>\n",
       "      <td>G/1458/S</td>\n",
       "      <td>55 Cancri e</td>\n",
       "      <td>8.0</td>\n",
       "      <td>False</td>\n",
       "      <td>0.0</td>\n",
       "      <td>0.0</td>\n",
       "      <td>...</td>\n",
       "      <td>0.0</td>\n",
       "      <td>Coreee Harry</td>\n",
       "      <td>NaN</td>\n",
       "      <td>9054</td>\n",
       "      <td>S</td>\n",
       "      <td>G</td>\n",
       "      <td>False</td>\n",
       "      <td>0.0</td>\n",
       "      <td>0.0</td>\n",
       "      <td>0.0</td>\n",
       "    </tr>\n",
       "    <tr>\n",
       "      <th>12960</th>\n",
       "      <td>4267</td>\n",
       "      <td>9260_01</td>\n",
       "      <td>Earth</td>\n",
       "      <td>True</td>\n",
       "      <td>G/1503/P</td>\n",
       "      <td>55 Cancri e</td>\n",
       "      <td>3.0</td>\n",
       "      <td>NaN</td>\n",
       "      <td>0.0</td>\n",
       "      <td>0.0</td>\n",
       "      <td>...</td>\n",
       "      <td>0.0</td>\n",
       "      <td>Luisy Portananney</td>\n",
       "      <td>NaN</td>\n",
       "      <td>9260</td>\n",
       "      <td>P</td>\n",
       "      <td>G</td>\n",
       "      <td>False</td>\n",
       "      <td>0.0</td>\n",
       "      <td>0.0</td>\n",
       "      <td>0.0</td>\n",
       "    </tr>\n",
       "  </tbody>\n",
       "</table>\n",
       "<p>68 rows × 22 columns</p>\n",
       "</div>"
      ],
      "text/plain": [
       "       index PassengerId HomePlanet CryoSleep     Cabin    Destination  Age  \\\n",
       "308      308     0341_01      Earth      True    G/57/P  PSO J318.5-22  5.0   \n",
       "585      585     0608_01      Earth     False    G/94/P    TRAPPIST-1e  7.0   \n",
       "625      625     0650_01      Earth      True    G/95/S  PSO J318.5-22  3.0   \n",
       "748      748     0787_01      Earth      True   G/114/P    TRAPPIST-1e  7.0   \n",
       "763      763     0802_01       Mars      True   F/148/S    TRAPPIST-1e  1.0   \n",
       "...      ...         ...        ...       ...       ...            ...  ...   \n",
       "12206   3513     7619_01      Earth      True  G/1236/S    TRAPPIST-1e  8.0   \n",
       "12678   3985     8689_01      Earth      True  G/1408/P    TRAPPIST-1e  6.0   \n",
       "12697   4004     8725_01      Earth      True  G/1405/S    TRAPPIST-1e  7.0   \n",
       "12866   4173     9054_01      Earth      True  G/1458/S    55 Cancri e  8.0   \n",
       "12960   4267     9260_01      Earth      True  G/1503/P    55 Cancri e  3.0   \n",
       "\n",
       "         VIP  RoomService  FoodCourt  ...  VRDeck                Name  \\\n",
       "308    False          0.0        0.0  ...     0.0  Lorian Webstephrey   \n",
       "585    False          0.0        0.0  ...     0.0        Maril Rilley   \n",
       "625    False          0.0        0.0  ...     0.0     Eulah Hammonton   \n",
       "748    False          0.0        0.0  ...     0.0    Ritany Quinnerry   \n",
       "763    False          0.0        0.0  ...     0.0          Plat Pimne   \n",
       "...      ...          ...        ...  ...     ...                 ...   \n",
       "12206  False          0.0        0.0  ...     0.0  Calvia Reidershley   \n",
       "12678  False          0.0        0.0  ...     0.0    Guye Harrenoldez   \n",
       "12697  False          0.0        0.0  ...     0.0        Antony Barks   \n",
       "12866  False          0.0        0.0  ...     0.0        Coreee Harry   \n",
       "12960    NaN          0.0        0.0  ...     0.0   Luisy Portananney   \n",
       "\n",
       "       Transported PassengerGroup CabinSide  CabinDeck InGroup GoodAmenities  \\\n",
       "308          False            341         P          G   False           0.0   \n",
       "585           True            608         P          G   False           0.0   \n",
       "625           True            650         S          G   False           0.0   \n",
       "748          False            787         P          G   False           0.0   \n",
       "763           True            802         S          F   False           0.0   \n",
       "...            ...            ...       ...        ...     ...           ...   \n",
       "12206          NaN           7619         S          G   False           0.0   \n",
       "12678          NaN           8689         P          G   False           0.0   \n",
       "12697          NaN           8725         S          G   False           0.0   \n",
       "12866          NaN           9054         S          G   False           0.0   \n",
       "12960          NaN           9260         P          G   False           0.0   \n",
       "\n",
       "       BadAmenities  Amenities  \n",
       "308             0.0        0.0  \n",
       "585             0.0        0.0  \n",
       "625             0.0        0.0  \n",
       "748             0.0        0.0  \n",
       "763             0.0        0.0  \n",
       "...             ...        ...  \n",
       "12206           0.0        0.0  \n",
       "12678           0.0        0.0  \n",
       "12697           0.0        0.0  \n",
       "12866           0.0        0.0  \n",
       "12960           0.0        0.0  \n",
       "\n",
       "[68 rows x 22 columns]"
      ]
     },
     "execution_count": 395,
     "metadata": {},
     "output_type": "execute_result"
    }
   ],
   "source": [
    "titanic[(titanic[\"Age\"] < 10) & (titanic[\"InGroup\"] == False)]"
   ]
  },
  {
   "cell_type": "markdown",
   "id": "e9ddbe30-0b91-4418-9912-2f3b856d0d6b",
   "metadata": {
    "tags": []
   },
   "source": [
    "#### VIP Analysis:"
   ]
  },
  {
   "cell_type": "code",
   "execution_count": null,
   "id": "9cecb121-cbf3-418b-936c-e868565eedf1",
   "metadata": {},
   "outputs": [
    {
     "data": {
      "text/plain": [
       "VIP\n",
       "False    0.506332\n",
       "True     0.381910\n",
       "Name: Transported, dtype: float64"
      ]
     },
     "execution_count": 351,
     "metadata": {},
     "output_type": "execute_result"
    }
   ],
   "source": [
    "titanic.groupby(\"VIP\")[\"Transported\"].mean()"
   ]
  },
  {
   "cell_type": "code",
   "execution_count": 374,
   "id": "6061a81d-7cb4-467e-b51e-fa9328ad15bf",
   "metadata": {},
   "outputs": [
    {
     "name": "stdout",
     "output_type": "stream",
     "text": [
      "<class 'pandas.core.frame.DataFrame'>\n",
      "Int64Index: 273 entries, 2 to 12865\n",
      "Data columns (total 22 columns):\n",
      " #   Column          Non-Null Count  Dtype  \n",
      "---  ------          --------------  -----  \n",
      " 0   index           273 non-null    int64  \n",
      " 1   PassengerId     273 non-null    object \n",
      " 2   HomePlanet      267 non-null    object \n",
      " 3   CryoSleep       267 non-null    object \n",
      " 4   Cabin           266 non-null    object \n",
      " 5   Destination     270 non-null    object \n",
      " 6   Age             271 non-null    float64\n",
      " 7   VIP             273 non-null    object \n",
      " 8   RoomService     273 non-null    float64\n",
      " 9   FoodCourt       273 non-null    float64\n",
      " 10  ShoppingMall    273 non-null    float64\n",
      " 11  Spa             273 non-null    float64\n",
      " 12  VRDeck          273 non-null    float64\n",
      " 13  Name            268 non-null    object \n",
      " 14  Transported     199 non-null    object \n",
      " 15  PassengerGroup  273 non-null    int64  \n",
      " 16  CabinSide       266 non-null    object \n",
      " 17  CabinDeck       266 non-null    object \n",
      " 18  InGroup         273 non-null    bool   \n",
      " 19  GoodAmenities   273 non-null    float64\n",
      " 20  BadAmenities    273 non-null    float64\n",
      " 21  Amenities       273 non-null    float64\n",
      "dtypes: bool(1), float64(9), int64(2), object(10)\n",
      "memory usage: 47.2+ KB\n"
     ]
    }
   ],
   "source": [
    "_vip = titanic[titanic[\"VIP\"] == True]\n",
    "_vip.info()"
   ]
  },
  {
   "cell_type": "code",
   "execution_count": 353,
   "id": "f7978540-d7ef-419c-9cc2-e3d00917daaa",
   "metadata": {},
   "outputs": [
    {
     "data": {
      "text/plain": [
       "TRAPPIST-1e      163\n",
       "55 Cancri e       85\n",
       "PSO J318.5-22     22\n",
       "Name: Destination, dtype: int64"
      ]
     },
     "execution_count": 353,
     "metadata": {},
     "output_type": "execute_result"
    }
   ],
   "source": [
    "_vip[\"Destination\"].value_counts()"
   ]
  },
  {
   "cell_type": "code",
   "execution_count": 355,
   "id": "defbdf5e-f852-4d1d-8512-55c3b95bb2d0",
   "metadata": {},
   "outputs": [
    {
     "data": {
      "text/html": [
       "<div>\n",
       "<style scoped>\n",
       "    .dataframe tbody tr th:only-of-type {\n",
       "        vertical-align: middle;\n",
       "    }\n",
       "\n",
       "    .dataframe tbody tr th {\n",
       "        vertical-align: top;\n",
       "    }\n",
       "\n",
       "    .dataframe thead th {\n",
       "        text-align: right;\n",
       "    }\n",
       "</style>\n",
       "<table border=\"1\" class=\"dataframe\">\n",
       "  <thead>\n",
       "    <tr style=\"text-align: right;\">\n",
       "      <th></th>\n",
       "      <th>index</th>\n",
       "      <th>PassengerId</th>\n",
       "      <th>HomePlanet</th>\n",
       "      <th>CryoSleep</th>\n",
       "      <th>Cabin</th>\n",
       "      <th>Destination</th>\n",
       "      <th>Age</th>\n",
       "      <th>VIP</th>\n",
       "      <th>RoomService</th>\n",
       "      <th>FoodCourt</th>\n",
       "      <th>...</th>\n",
       "      <th>VRDeck</th>\n",
       "      <th>Name</th>\n",
       "      <th>Transported</th>\n",
       "      <th>PassengerGroup</th>\n",
       "      <th>CabinSide</th>\n",
       "      <th>CabinDeck</th>\n",
       "      <th>InGroup</th>\n",
       "      <th>GoodAmenities</th>\n",
       "      <th>BadAmenities</th>\n",
       "      <th>Amenities</th>\n",
       "    </tr>\n",
       "  </thead>\n",
       "  <tbody>\n",
       "    <tr>\n",
       "      <th>4506</th>\n",
       "      <td>4506</td>\n",
       "      <td>4790_01</td>\n",
       "      <td>Europa</td>\n",
       "      <td>False</td>\n",
       "      <td>B/189/S</td>\n",
       "      <td>NaN</td>\n",
       "      <td>54.0</td>\n",
       "      <td>True</td>\n",
       "      <td>0.0</td>\n",
       "      <td>2853.0</td>\n",
       "      <td>...</td>\n",
       "      <td>1666.0</td>\n",
       "      <td>Alarkab Mirinanty</td>\n",
       "      <td>False</td>\n",
       "      <td>4790</td>\n",
       "      <td>S</td>\n",
       "      <td>B</td>\n",
       "      <td>False</td>\n",
       "      <td>1666.0</td>\n",
       "      <td>2853.0</td>\n",
       "      <td>4519.0</td>\n",
       "    </tr>\n",
       "    <tr>\n",
       "      <th>8621</th>\n",
       "      <td>8621</td>\n",
       "      <td>9197_02</td>\n",
       "      <td>Europa</td>\n",
       "      <td>False</td>\n",
       "      <td>C/308/P</td>\n",
       "      <td>NaN</td>\n",
       "      <td>41.0</td>\n",
       "      <td>True</td>\n",
       "      <td>0.0</td>\n",
       "      <td>7964.0</td>\n",
       "      <td>...</td>\n",
       "      <td>5839.0</td>\n",
       "      <td>Aludram Platch</td>\n",
       "      <td>False</td>\n",
       "      <td>9197</td>\n",
       "      <td>P</td>\n",
       "      <td>C</td>\n",
       "      <td>True</td>\n",
       "      <td>9077.0</td>\n",
       "      <td>7964.0</td>\n",
       "      <td>17041.0</td>\n",
       "    </tr>\n",
       "    <tr>\n",
       "      <th>9892</th>\n",
       "      <td>1199</td>\n",
       "      <td>2529_01</td>\n",
       "      <td>Europa</td>\n",
       "      <td>False</td>\n",
       "      <td>C/89/P</td>\n",
       "      <td>NaN</td>\n",
       "      <td>39.0</td>\n",
       "      <td>True</td>\n",
       "      <td>381.0</td>\n",
       "      <td>1222.0</td>\n",
       "      <td>...</td>\n",
       "      <td>2827.0</td>\n",
       "      <td>Muontak Healist</td>\n",
       "      <td>NaN</td>\n",
       "      <td>2529</td>\n",
       "      <td>P</td>\n",
       "      <td>C</td>\n",
       "      <td>False</td>\n",
       "      <td>3329.0</td>\n",
       "      <td>2326.0</td>\n",
       "      <td>5655.0</td>\n",
       "    </tr>\n",
       "  </tbody>\n",
       "</table>\n",
       "<p>3 rows × 22 columns</p>\n",
       "</div>"
      ],
      "text/plain": [
       "      index PassengerId HomePlanet CryoSleep    Cabin Destination   Age   VIP  \\\n",
       "4506   4506     4790_01     Europa     False  B/189/S         NaN  54.0  True   \n",
       "8621   8621     9197_02     Europa     False  C/308/P         NaN  41.0  True   \n",
       "9892   1199     2529_01     Europa     False   C/89/P         NaN  39.0  True   \n",
       "\n",
       "      RoomService  FoodCourt  ...  VRDeck               Name  Transported  \\\n",
       "4506          0.0     2853.0  ...  1666.0  Alarkab Mirinanty        False   \n",
       "8621          0.0     7964.0  ...  5839.0     Aludram Platch        False   \n",
       "9892        381.0     1222.0  ...  2827.0    Muontak Healist          NaN   \n",
       "\n",
       "     PassengerGroup CabinSide  CabinDeck InGroup GoodAmenities  BadAmenities  \\\n",
       "4506           4790         S          B   False        1666.0        2853.0   \n",
       "8621           9197         P          C    True        9077.0        7964.0   \n",
       "9892           2529         P          C   False        3329.0        2326.0   \n",
       "\n",
       "      Amenities  \n",
       "4506     4519.0  \n",
       "8621    17041.0  \n",
       "9892     5655.0  \n",
       "\n",
       "[3 rows x 22 columns]"
      ]
     },
     "execution_count": 355,
     "metadata": {},
     "output_type": "execute_result"
    }
   ],
   "source": [
    "titanic[(titanic[\"VIP\"] == True) & (titanic[\"Destination\"].isnull())]"
   ]
  },
  {
   "cell_type": "code",
   "execution_count": 357,
   "id": "85ba831e-8e36-466f-b6ea-bf7b02bd26b9",
   "metadata": {},
   "outputs": [
    {
     "data": {
      "text/plain": [
       "count    271.000000\n",
       "mean      36.664207\n",
       "std       11.203578\n",
       "min       18.000000\n",
       "25%       28.000000\n",
       "50%       33.000000\n",
       "75%       42.500000\n",
       "max       73.000000\n",
       "Name: Age, dtype: float64"
      ]
     },
     "execution_count": 357,
     "metadata": {},
     "output_type": "execute_result"
    }
   ],
   "source": [
    "_vip[\"Age\"].describe()"
   ]
  },
  {
   "cell_type": "code",
   "execution_count": 360,
   "id": "e92f1b5f-1415-4889-aea8-47090559d9b4",
   "metadata": {},
   "outputs": [
    {
     "data": {
      "text/html": [
       "<div>\n",
       "<style scoped>\n",
       "    .dataframe tbody tr th:only-of-type {\n",
       "        vertical-align: middle;\n",
       "    }\n",
       "\n",
       "    .dataframe tbody tr th {\n",
       "        vertical-align: top;\n",
       "    }\n",
       "\n",
       "    .dataframe thead th {\n",
       "        text-align: right;\n",
       "    }\n",
       "</style>\n",
       "<table border=\"1\" class=\"dataframe\">\n",
       "  <thead>\n",
       "    <tr style=\"text-align: right;\">\n",
       "      <th></th>\n",
       "      <th>index</th>\n",
       "      <th>PassengerId</th>\n",
       "      <th>HomePlanet</th>\n",
       "      <th>CryoSleep</th>\n",
       "      <th>Cabin</th>\n",
       "      <th>Destination</th>\n",
       "      <th>Age</th>\n",
       "      <th>VIP</th>\n",
       "      <th>RoomService</th>\n",
       "      <th>FoodCourt</th>\n",
       "      <th>...</th>\n",
       "      <th>VRDeck</th>\n",
       "      <th>Name</th>\n",
       "      <th>Transported</th>\n",
       "      <th>PassengerGroup</th>\n",
       "      <th>CabinSide</th>\n",
       "      <th>CabinDeck</th>\n",
       "      <th>InGroup</th>\n",
       "      <th>GoodAmenities</th>\n",
       "      <th>BadAmenities</th>\n",
       "      <th>Amenities</th>\n",
       "    </tr>\n",
       "  </thead>\n",
       "  <tbody>\n",
       "    <tr>\n",
       "      <th>417</th>\n",
       "      <td>417</td>\n",
       "      <td>0454_01</td>\n",
       "      <td>Europa</td>\n",
       "      <td>NaN</td>\n",
       "      <td>B/15/S</td>\n",
       "      <td>55 Cancri e</td>\n",
       "      <td>28.0</td>\n",
       "      <td>True</td>\n",
       "      <td>5.0</td>\n",
       "      <td>4288.0</td>\n",
       "      <td>...</td>\n",
       "      <td>5.0</td>\n",
       "      <td>Tabius Geoconne</td>\n",
       "      <td>True</td>\n",
       "      <td>454</td>\n",
       "      <td>S</td>\n",
       "      <td>B</td>\n",
       "      <td>True</td>\n",
       "      <td>755.0</td>\n",
       "      <td>4288.0</td>\n",
       "      <td>5043.0</td>\n",
       "    </tr>\n",
       "    <tr>\n",
       "      <th>7933</th>\n",
       "      <td>7933</td>\n",
       "      <td>8470_01</td>\n",
       "      <td>Europa</td>\n",
       "      <td>NaN</td>\n",
       "      <td>C/281/P</td>\n",
       "      <td>55 Cancri e</td>\n",
       "      <td>31.0</td>\n",
       "      <td>True</td>\n",
       "      <td>8243.0</td>\n",
       "      <td>280.0</td>\n",
       "      <td>...</td>\n",
       "      <td>2285.0</td>\n",
       "      <td>Brafirk Aloubtled</td>\n",
       "      <td>False</td>\n",
       "      <td>8470</td>\n",
       "      <td>P</td>\n",
       "      <td>C</td>\n",
       "      <td>False</td>\n",
       "      <td>13748.0</td>\n",
       "      <td>280.0</td>\n",
       "      <td>14028.0</td>\n",
       "    </tr>\n",
       "    <tr>\n",
       "      <th>7948</th>\n",
       "      <td>7948</td>\n",
       "      <td>8487_01</td>\n",
       "      <td>Europa</td>\n",
       "      <td>NaN</td>\n",
       "      <td>C/282/P</td>\n",
       "      <td>55 Cancri e</td>\n",
       "      <td>32.0</td>\n",
       "      <td>True</td>\n",
       "      <td>65.0</td>\n",
       "      <td>0.0</td>\n",
       "      <td>...</td>\n",
       "      <td>9811.0</td>\n",
       "      <td>Kajamak Boderbint</td>\n",
       "      <td>False</td>\n",
       "      <td>8487</td>\n",
       "      <td>P</td>\n",
       "      <td>C</td>\n",
       "      <td>False</td>\n",
       "      <td>9964.0</td>\n",
       "      <td>0.0</td>\n",
       "      <td>9964.0</td>\n",
       "    </tr>\n",
       "    <tr>\n",
       "      <th>10260</th>\n",
       "      <td>1567</td>\n",
       "      <td>3368_03</td>\n",
       "      <td>Mars</td>\n",
       "      <td>NaN</td>\n",
       "      <td>E/228/S</td>\n",
       "      <td>TRAPPIST-1e</td>\n",
       "      <td>22.0</td>\n",
       "      <td>True</td>\n",
       "      <td>1166.0</td>\n",
       "      <td>3.0</td>\n",
       "      <td>...</td>\n",
       "      <td>0.0</td>\n",
       "      <td>Goats Buko</td>\n",
       "      <td>NaN</td>\n",
       "      <td>3368</td>\n",
       "      <td>S</td>\n",
       "      <td>E</td>\n",
       "      <td>True</td>\n",
       "      <td>1166.0</td>\n",
       "      <td>133.0</td>\n",
       "      <td>1299.0</td>\n",
       "    </tr>\n",
       "    <tr>\n",
       "      <th>11018</th>\n",
       "      <td>2325</td>\n",
       "      <td>5053_01</td>\n",
       "      <td>Europa</td>\n",
       "      <td>NaN</td>\n",
       "      <td>A/46/P</td>\n",
       "      <td>TRAPPIST-1e</td>\n",
       "      <td>42.0</td>\n",
       "      <td>True</td>\n",
       "      <td>2.0</td>\n",
       "      <td>722.0</td>\n",
       "      <td>...</td>\n",
       "      <td>368.0</td>\n",
       "      <td>Aludrab Confring</td>\n",
       "      <td>NaN</td>\n",
       "      <td>5053</td>\n",
       "      <td>P</td>\n",
       "      <td>A</td>\n",
       "      <td>False</td>\n",
       "      <td>1405.0</td>\n",
       "      <td>722.0</td>\n",
       "      <td>2127.0</td>\n",
       "    </tr>\n",
       "    <tr>\n",
       "      <th>11793</th>\n",
       "      <td>3100</td>\n",
       "      <td>6795_01</td>\n",
       "      <td>Mars</td>\n",
       "      <td>NaN</td>\n",
       "      <td>E/433/P</td>\n",
       "      <td>TRAPPIST-1e</td>\n",
       "      <td>18.0</td>\n",
       "      <td>True</td>\n",
       "      <td>988.0</td>\n",
       "      <td>0.0</td>\n",
       "      <td>...</td>\n",
       "      <td>0.0</td>\n",
       "      <td>Coobix Gecre</td>\n",
       "      <td>NaN</td>\n",
       "      <td>6795</td>\n",
       "      <td>P</td>\n",
       "      <td>E</td>\n",
       "      <td>False</td>\n",
       "      <td>1344.0</td>\n",
       "      <td>732.0</td>\n",
       "      <td>2076.0</td>\n",
       "    </tr>\n",
       "  </tbody>\n",
       "</table>\n",
       "<p>6 rows × 22 columns</p>\n",
       "</div>"
      ],
      "text/plain": [
       "       index PassengerId HomePlanet CryoSleep    Cabin  Destination   Age  \\\n",
       "417      417     0454_01     Europa       NaN   B/15/S  55 Cancri e  28.0   \n",
       "7933    7933     8470_01     Europa       NaN  C/281/P  55 Cancri e  31.0   \n",
       "7948    7948     8487_01     Europa       NaN  C/282/P  55 Cancri e  32.0   \n",
       "10260   1567     3368_03       Mars       NaN  E/228/S  TRAPPIST-1e  22.0   \n",
       "11018   2325     5053_01     Europa       NaN   A/46/P  TRAPPIST-1e  42.0   \n",
       "11793   3100     6795_01       Mars       NaN  E/433/P  TRAPPIST-1e  18.0   \n",
       "\n",
       "        VIP  RoomService  FoodCourt  ...  VRDeck               Name  \\\n",
       "417    True          5.0     4288.0  ...     5.0    Tabius Geoconne   \n",
       "7933   True       8243.0      280.0  ...  2285.0  Brafirk Aloubtled   \n",
       "7948   True         65.0        0.0  ...  9811.0  Kajamak Boderbint   \n",
       "10260  True       1166.0        3.0  ...     0.0         Goats Buko   \n",
       "11018  True          2.0      722.0  ...   368.0   Aludrab Confring   \n",
       "11793  True        988.0        0.0  ...     0.0       Coobix Gecre   \n",
       "\n",
       "       Transported PassengerGroup CabinSide  CabinDeck InGroup GoodAmenities  \\\n",
       "417           True            454         S          B    True         755.0   \n",
       "7933         False           8470         P          C   False       13748.0   \n",
       "7948         False           8487         P          C   False        9964.0   \n",
       "10260          NaN           3368         S          E    True        1166.0   \n",
       "11018          NaN           5053         P          A   False        1405.0   \n",
       "11793          NaN           6795         P          E   False        1344.0   \n",
       "\n",
       "       BadAmenities  Amenities  \n",
       "417          4288.0     5043.0  \n",
       "7933          280.0    14028.0  \n",
       "7948            0.0     9964.0  \n",
       "10260         133.0     1299.0  \n",
       "11018         722.0     2127.0  \n",
       "11793         732.0     2076.0  \n",
       "\n",
       "[6 rows x 22 columns]"
      ]
     },
     "execution_count": 360,
     "metadata": {},
     "output_type": "execute_result"
    }
   ],
   "source": [
    "_vip[_vip[\"CryoSleep\"].isnull()]"
   ]
  },
  {
   "cell_type": "code",
   "execution_count": 376,
   "id": "7cfdbd62-3c7b-4283-963d-2bc64824ff0c",
   "metadata": {},
   "outputs": [
    {
     "data": {
      "text/plain": [
       "count      273.000000\n",
       "mean      4595.542125\n",
       "std       5464.818112\n",
       "min          0.000000\n",
       "25%       1299.000000\n",
       "50%       2743.000000\n",
       "75%       6206.000000\n",
       "max      33666.000000\n",
       "Name: Amenities, dtype: float64"
      ]
     },
     "execution_count": 376,
     "metadata": {},
     "output_type": "execute_result"
    }
   ],
   "source": [
    "titanic[titanic[\"VIP\"] == True][\"Amenities\"].describe()"
   ]
  },
  {
   "cell_type": "code",
   "execution_count": 380,
   "id": "0c3c4a79-8fd0-4482-8bb9-1deab273621b",
   "metadata": {},
   "outputs": [
    {
     "data": {
      "text/html": [
       "<div>\n",
       "<style scoped>\n",
       "    .dataframe tbody tr th:only-of-type {\n",
       "        vertical-align: middle;\n",
       "    }\n",
       "\n",
       "    .dataframe tbody tr th {\n",
       "        vertical-align: top;\n",
       "    }\n",
       "\n",
       "    .dataframe thead th {\n",
       "        text-align: right;\n",
       "    }\n",
       "</style>\n",
       "<table border=\"1\" class=\"dataframe\">\n",
       "  <thead>\n",
       "    <tr style=\"text-align: right;\">\n",
       "      <th></th>\n",
       "      <th>index</th>\n",
       "      <th>PassengerId</th>\n",
       "      <th>HomePlanet</th>\n",
       "      <th>CryoSleep</th>\n",
       "      <th>Cabin</th>\n",
       "      <th>Destination</th>\n",
       "      <th>Age</th>\n",
       "      <th>VIP</th>\n",
       "      <th>RoomService</th>\n",
       "      <th>FoodCourt</th>\n",
       "      <th>...</th>\n",
       "      <th>VRDeck</th>\n",
       "      <th>Name</th>\n",
       "      <th>Transported</th>\n",
       "      <th>PassengerGroup</th>\n",
       "      <th>CabinSide</th>\n",
       "      <th>CabinDeck</th>\n",
       "      <th>InGroup</th>\n",
       "      <th>GoodAmenities</th>\n",
       "      <th>BadAmenities</th>\n",
       "      <th>Amenities</th>\n",
       "    </tr>\n",
       "  </thead>\n",
       "  <tbody>\n",
       "    <tr>\n",
       "      <th>3</th>\n",
       "      <td>3</td>\n",
       "      <td>0003_02</td>\n",
       "      <td>Europa</td>\n",
       "      <td>False</td>\n",
       "      <td>A/0/S</td>\n",
       "      <td>TRAPPIST-1e</td>\n",
       "      <td>33.0</td>\n",
       "      <td>False</td>\n",
       "      <td>0.0</td>\n",
       "      <td>1283.0</td>\n",
       "      <td>...</td>\n",
       "      <td>193.0</td>\n",
       "      <td>Solam Susent</td>\n",
       "      <td>False</td>\n",
       "      <td>3</td>\n",
       "      <td>S</td>\n",
       "      <td>A</td>\n",
       "      <td>True</td>\n",
       "      <td>3522.0</td>\n",
       "      <td>1654.0</td>\n",
       "      <td>5176.0</td>\n",
       "    </tr>\n",
       "    <tr>\n",
       "      <th>11</th>\n",
       "      <td>11</td>\n",
       "      <td>0008_03</td>\n",
       "      <td>Europa</td>\n",
       "      <td>False</td>\n",
       "      <td>B/1/P</td>\n",
       "      <td>55 Cancri e</td>\n",
       "      <td>45.0</td>\n",
       "      <td>False</td>\n",
       "      <td>39.0</td>\n",
       "      <td>7295.0</td>\n",
       "      <td>...</td>\n",
       "      <td>124.0</td>\n",
       "      <td>Wezena Flatic</td>\n",
       "      <td>True</td>\n",
       "      <td>8</td>\n",
       "      <td>P</td>\n",
       "      <td>B</td>\n",
       "      <td>True</td>\n",
       "      <td>273.0</td>\n",
       "      <td>7884.0</td>\n",
       "      <td>8157.0</td>\n",
       "    </tr>\n",
       "    <tr>\n",
       "      <th>30</th>\n",
       "      <td>30</td>\n",
       "      <td>0026_01</td>\n",
       "      <td>Europa</td>\n",
       "      <td>False</td>\n",
       "      <td>C/0/P</td>\n",
       "      <td>55 Cancri e</td>\n",
       "      <td>34.0</td>\n",
       "      <td>False</td>\n",
       "      <td>22.0</td>\n",
       "      <td>6073.0</td>\n",
       "      <td>...</td>\n",
       "      <td>328.0</td>\n",
       "      <td>Anyoni Unconary</td>\n",
       "      <td>False</td>\n",
       "      <td>26</td>\n",
       "      <td>P</td>\n",
       "      <td>C</td>\n",
       "      <td>False</td>\n",
       "      <td>1788.0</td>\n",
       "      <td>6073.0</td>\n",
       "      <td>7861.0</td>\n",
       "    </tr>\n",
       "    <tr>\n",
       "      <th>70</th>\n",
       "      <td>70</td>\n",
       "      <td>0074_01</td>\n",
       "      <td>Europa</td>\n",
       "      <td>False</td>\n",
       "      <td>C/3/S</td>\n",
       "      <td>TRAPPIST-1e</td>\n",
       "      <td>42.0</td>\n",
       "      <td>False</td>\n",
       "      <td>1.0</td>\n",
       "      <td>8397.0</td>\n",
       "      <td>...</td>\n",
       "      <td>506.0</td>\n",
       "      <td>Aldibah Mostedry</td>\n",
       "      <td>True</td>\n",
       "      <td>74</td>\n",
       "      <td>S</td>\n",
       "      <td>C</td>\n",
       "      <td>False</td>\n",
       "      <td>507.0</td>\n",
       "      <td>8397.0</td>\n",
       "      <td>8904.0</td>\n",
       "    </tr>\n",
       "    <tr>\n",
       "      <th>73</th>\n",
       "      <td>73</td>\n",
       "      <td>0078_01</td>\n",
       "      <td>Europa</td>\n",
       "      <td>False</td>\n",
       "      <td>C/4/S</td>\n",
       "      <td>TRAPPIST-1e</td>\n",
       "      <td>38.0</td>\n",
       "      <td>False</td>\n",
       "      <td>0.0</td>\n",
       "      <td>5840.0</td>\n",
       "      <td>...</td>\n",
       "      <td>9654.0</td>\n",
       "      <td>Spuri Pokerheed</td>\n",
       "      <td>False</td>\n",
       "      <td>78</td>\n",
       "      <td>S</td>\n",
       "      <td>C</td>\n",
       "      <td>False</td>\n",
       "      <td>9975.0</td>\n",
       "      <td>5840.0</td>\n",
       "      <td>15815.0</td>\n",
       "    </tr>\n",
       "    <tr>\n",
       "      <th>...</th>\n",
       "      <td>...</td>\n",
       "      <td>...</td>\n",
       "      <td>...</td>\n",
       "      <td>...</td>\n",
       "      <td>...</td>\n",
       "      <td>...</td>\n",
       "      <td>...</td>\n",
       "      <td>...</td>\n",
       "      <td>...</td>\n",
       "      <td>...</td>\n",
       "      <td>...</td>\n",
       "      <td>...</td>\n",
       "      <td>...</td>\n",
       "      <td>...</td>\n",
       "      <td>...</td>\n",
       "      <td>...</td>\n",
       "      <td>...</td>\n",
       "      <td>...</td>\n",
       "      <td>...</td>\n",
       "      <td>...</td>\n",
       "      <td>...</td>\n",
       "    </tr>\n",
       "    <tr>\n",
       "      <th>12917</th>\n",
       "      <td>4224</td>\n",
       "      <td>9162_02</td>\n",
       "      <td>Europa</td>\n",
       "      <td>False</td>\n",
       "      <td>D/294/P</td>\n",
       "      <td>TRAPPIST-1e</td>\n",
       "      <td>29.0</td>\n",
       "      <td>False</td>\n",
       "      <td>0.0</td>\n",
       "      <td>472.0</td>\n",
       "      <td>...</td>\n",
       "      <td>2650.0</td>\n",
       "      <td>Coxark Ineckethle</td>\n",
       "      <td>NaN</td>\n",
       "      <td>9162</td>\n",
       "      <td>P</td>\n",
       "      <td>D</td>\n",
       "      <td>True</td>\n",
       "      <td>4366.0</td>\n",
       "      <td>910.0</td>\n",
       "      <td>5276.0</td>\n",
       "    </tr>\n",
       "    <tr>\n",
       "      <th>12920</th>\n",
       "      <td>4227</td>\n",
       "      <td>9171_01</td>\n",
       "      <td>Europa</td>\n",
       "      <td>False</td>\n",
       "      <td>C/305/P</td>\n",
       "      <td>TRAPPIST-1e</td>\n",
       "      <td>29.0</td>\n",
       "      <td>False</td>\n",
       "      <td>0.0</td>\n",
       "      <td>5718.0</td>\n",
       "      <td>...</td>\n",
       "      <td>5.0</td>\n",
       "      <td>Aliakan Roftfuling</td>\n",
       "      <td>NaN</td>\n",
       "      <td>9171</td>\n",
       "      <td>P</td>\n",
       "      <td>C</td>\n",
       "      <td>False</td>\n",
       "      <td>1449.0</td>\n",
       "      <td>5718.0</td>\n",
       "      <td>7167.0</td>\n",
       "    </tr>\n",
       "    <tr>\n",
       "      <th>12930</th>\n",
       "      <td>4237</td>\n",
       "      <td>9206_01</td>\n",
       "      <td>Europa</td>\n",
       "      <td>False</td>\n",
       "      <td>B/352/S</td>\n",
       "      <td>TRAPPIST-1e</td>\n",
       "      <td>27.0</td>\n",
       "      <td>False</td>\n",
       "      <td>0.0</td>\n",
       "      <td>5980.0</td>\n",
       "      <td>...</td>\n",
       "      <td>21.0</td>\n",
       "      <td>Ionan Pokebox</td>\n",
       "      <td>NaN</td>\n",
       "      <td>9206</td>\n",
       "      <td>S</td>\n",
       "      <td>B</td>\n",
       "      <td>True</td>\n",
       "      <td>189.0</td>\n",
       "      <td>5985.0</td>\n",
       "      <td>6174.0</td>\n",
       "    </tr>\n",
       "    <tr>\n",
       "      <th>12938</th>\n",
       "      <td>4245</td>\n",
       "      <td>9214_01</td>\n",
       "      <td>Europa</td>\n",
       "      <td>False</td>\n",
       "      <td>C/341/S</td>\n",
       "      <td>TRAPPIST-1e</td>\n",
       "      <td>32.0</td>\n",
       "      <td>False</td>\n",
       "      <td>523.0</td>\n",
       "      <td>2.0</td>\n",
       "      <td>...</td>\n",
       "      <td>14834.0</td>\n",
       "      <td>Alatrix Mirinanty</td>\n",
       "      <td>NaN</td>\n",
       "      <td>9214</td>\n",
       "      <td>S</td>\n",
       "      <td>C</td>\n",
       "      <td>False</td>\n",
       "      <td>15373.0</td>\n",
       "      <td>2.0</td>\n",
       "      <td>15375.0</td>\n",
       "    </tr>\n",
       "    <tr>\n",
       "      <th>12955</th>\n",
       "      <td>4262</td>\n",
       "      <td>9243_01</td>\n",
       "      <td>Europa</td>\n",
       "      <td>False</td>\n",
       "      <td>E/596/P</td>\n",
       "      <td>TRAPPIST-1e</td>\n",
       "      <td>35.0</td>\n",
       "      <td>False</td>\n",
       "      <td>0.0</td>\n",
       "      <td>4813.0</td>\n",
       "      <td>...</td>\n",
       "      <td>523.0</td>\n",
       "      <td>Sollum Pumpeshaft</td>\n",
       "      <td>NaN</td>\n",
       "      <td>9243</td>\n",
       "      <td>P</td>\n",
       "      <td>E</td>\n",
       "      <td>False</td>\n",
       "      <td>665.0</td>\n",
       "      <td>4813.0</td>\n",
       "      <td>5478.0</td>\n",
       "    </tr>\n",
       "  </tbody>\n",
       "</table>\n",
       "<p>821 rows × 22 columns</p>\n",
       "</div>"
      ],
      "text/plain": [
       "       index PassengerId HomePlanet CryoSleep    Cabin  Destination   Age  \\\n",
       "3          3     0003_02     Europa     False    A/0/S  TRAPPIST-1e  33.0   \n",
       "11        11     0008_03     Europa     False    B/1/P  55 Cancri e  45.0   \n",
       "30        30     0026_01     Europa     False    C/0/P  55 Cancri e  34.0   \n",
       "70        70     0074_01     Europa     False    C/3/S  TRAPPIST-1e  42.0   \n",
       "73        73     0078_01     Europa     False    C/4/S  TRAPPIST-1e  38.0   \n",
       "...      ...         ...        ...       ...      ...          ...   ...   \n",
       "12917   4224     9162_02     Europa     False  D/294/P  TRAPPIST-1e  29.0   \n",
       "12920   4227     9171_01     Europa     False  C/305/P  TRAPPIST-1e  29.0   \n",
       "12930   4237     9206_01     Europa     False  B/352/S  TRAPPIST-1e  27.0   \n",
       "12938   4245     9214_01     Europa     False  C/341/S  TRAPPIST-1e  32.0   \n",
       "12955   4262     9243_01     Europa     False  E/596/P  TRAPPIST-1e  35.0   \n",
       "\n",
       "         VIP  RoomService  FoodCourt  ...   VRDeck                Name  \\\n",
       "3      False          0.0     1283.0  ...    193.0        Solam Susent   \n",
       "11     False         39.0     7295.0  ...    124.0       Wezena Flatic   \n",
       "30     False         22.0     6073.0  ...    328.0     Anyoni Unconary   \n",
       "70     False          1.0     8397.0  ...    506.0    Aldibah Mostedry   \n",
       "73     False          0.0     5840.0  ...   9654.0     Spuri Pokerheed   \n",
       "...      ...          ...        ...  ...      ...                 ...   \n",
       "12917  False          0.0      472.0  ...   2650.0   Coxark Ineckethle   \n",
       "12920  False          0.0     5718.0  ...      5.0  Aliakan Roftfuling   \n",
       "12930  False          0.0     5980.0  ...     21.0       Ionan Pokebox   \n",
       "12938  False        523.0        2.0  ...  14834.0   Alatrix Mirinanty   \n",
       "12955  False          0.0     4813.0  ...    523.0   Sollum Pumpeshaft   \n",
       "\n",
       "       Transported PassengerGroup CabinSide  CabinDeck InGroup GoodAmenities  \\\n",
       "3            False              3         S          A    True        3522.0   \n",
       "11            True              8         P          B    True         273.0   \n",
       "30           False             26         P          C   False        1788.0   \n",
       "70            True             74         S          C   False         507.0   \n",
       "73           False             78         S          C   False        9975.0   \n",
       "...            ...            ...       ...        ...     ...           ...   \n",
       "12917          NaN           9162         P          D    True        4366.0   \n",
       "12920          NaN           9171         P          C   False        1449.0   \n",
       "12930          NaN           9206         S          B    True         189.0   \n",
       "12938          NaN           9214         S          C   False       15373.0   \n",
       "12955          NaN           9243         P          E   False         665.0   \n",
       "\n",
       "       BadAmenities  Amenities  \n",
       "3            1654.0     5176.0  \n",
       "11           7884.0     8157.0  \n",
       "30           6073.0     7861.0  \n",
       "70           8397.0     8904.0  \n",
       "73           5840.0    15815.0  \n",
       "...             ...        ...  \n",
       "12917         910.0     5276.0  \n",
       "12920        5718.0     7167.0  \n",
       "12930        5985.0     6174.0  \n",
       "12938           2.0    15375.0  \n",
       "12955        4813.0     5478.0  \n",
       "\n",
       "[821 rows x 22 columns]"
      ]
     },
     "execution_count": 380,
     "metadata": {},
     "output_type": "execute_result"
    }
   ],
   "source": [
    "titanic[(titanic[\"VIP\"] == False) & (titanic[\"Amenities\"] > 5000)]"
   ]
  },
  {
   "cell_type": "markdown",
   "id": "1a81f3cc-0fe3-4b28-8764-ec3b0c80cff5",
   "metadata": {
    "tags": []
   },
   "source": [
    "#### Amenities Analysis:"
   ]
  },
  {
   "cell_type": "code",
   "execution_count": 240,
   "id": "8e9591ed-7e91-40c8-9630-97fb17e34b6a",
   "metadata": {},
   "outputs": [
    {
     "data": {
      "image/png": "[encoded data removed]",
      "text/plain": [
       "<Figure size 864x432 with 1 Axes>"
      ]
     },
     "metadata": {
      "needs_background": "light"
     },
     "output_type": "display_data"
    }
   ],
   "source": [
    "fig, ax = plt.subplots()\n",
    "\n",
    "categories = [\"RoomService\", \"FoodCourt\", \"ShoppingMall\", \"Spa\", \"VRDeck\"]\n",
    "\n",
    "limits = range(0, 25000, 1000)\n",
    "transports = []\n",
    "\n",
    "for cat in categories:\n",
    "    transports = []\n",
    "    for limit in limits:\n",
    "        transport_rate = titanic[titanic[cat] > limit].Transported.mean()\n",
    "        transports.append(transport_rate)\n",
    "    plt.plot(limits, transports, label = cat)\n",
    "plt.legend()\n",
    "plt.grid()\n",
    "plt.title(\"Transportation Rates by Amount Spent on Services\")\n",
    "plt.xlabel(\"Amount Spent on Service ($)\")\n",
    "plt.ylabel(\"Mean Transportation Rate\")\n",
    "plt.show()"
   ]
  },
  {
   "cell_type": "code",
   "execution_count": 167,
   "id": "1c80b653-58a4-45ab-8452-b108d3681132",
   "metadata": {},
   "outputs": [],
   "source": [
    "_room = pd.cut(titanic[cat], bins=500, retbins = True)\n",
    "\n",
    "titanic[titanic[cat] < 200].hist(cat, bins = 50)"
   ]
  },
  {
   "cell_type": "markdown",
   "id": "ba4c7f4f-ef54-4edc-b87e-43c1f7caf3d9",
   "metadata": {
    "tags": []
   },
   "source": [
    "#### Name Analysis(?):"
   ]
  },
  {
   "cell_type": "code",
   "execution_count": 8,
   "id": "5f0af892-97be-4db8-83fb-1154b158a7d0",
   "metadata": {},
   "outputs": [
    {
     "data": {
      "text/html": [
       "<div>\n",
       "<style scoped>\n",
       "    .dataframe tbody tr th:only-of-type {\n",
       "        vertical-align: middle;\n",
       "    }\n",
       "\n",
       "    .dataframe tbody tr th {\n",
       "        vertical-align: top;\n",
       "    }\n",
       "\n",
       "    .dataframe thead th {\n",
       "        text-align: right;\n",
       "    }\n",
       "</style>\n",
       "<table border=\"1\" class=\"dataframe\">\n",
       "  <thead>\n",
       "    <tr style=\"text-align: right;\">\n",
       "      <th></th>\n",
       "      <th>0</th>\n",
       "      <th>1</th>\n",
       "    </tr>\n",
       "  </thead>\n",
       "  <tbody>\n",
       "    <tr>\n",
       "      <th>0</th>\n",
       "      <td>Maham</td>\n",
       "      <td>Ofracculy</td>\n",
       "    </tr>\n",
       "    <tr>\n",
       "      <th>1</th>\n",
       "      <td>Juanna</td>\n",
       "      <td>Vines</td>\n",
       "    </tr>\n",
       "    <tr>\n",
       "      <th>2</th>\n",
       "      <td>Altark</td>\n",
       "      <td>Susent</td>\n",
       "    </tr>\n",
       "    <tr>\n",
       "      <th>3</th>\n",
       "      <td>Solam</td>\n",
       "      <td>Susent</td>\n",
       "    </tr>\n",
       "    <tr>\n",
       "      <th>4</th>\n",
       "      <td>Willy</td>\n",
       "      <td>Santantines</td>\n",
       "    </tr>\n",
       "    <tr>\n",
       "      <th>...</th>\n",
       "      <td>...</td>\n",
       "      <td>...</td>\n",
       "    </tr>\n",
       "    <tr>\n",
       "      <th>12965</th>\n",
       "      <td>Jeron</td>\n",
       "      <td>Peter</td>\n",
       "    </tr>\n",
       "    <tr>\n",
       "      <th>12966</th>\n",
       "      <td>Matty</td>\n",
       "      <td>Scheron</td>\n",
       "    </tr>\n",
       "    <tr>\n",
       "      <th>12967</th>\n",
       "      <td>Jayrin</td>\n",
       "      <td>Pore</td>\n",
       "    </tr>\n",
       "    <tr>\n",
       "      <th>12968</th>\n",
       "      <td>Kitakan</td>\n",
       "      <td>Conale</td>\n",
       "    </tr>\n",
       "    <tr>\n",
       "      <th>12969</th>\n",
       "      <td>Lilace</td>\n",
       "      <td>Leonzaley</td>\n",
       "    </tr>\n",
       "  </tbody>\n",
       "</table>\n",
       "<p>12970 rows × 2 columns</p>\n",
       "</div>"
      ],
      "text/plain": [
       "             0            1\n",
       "0        Maham    Ofracculy\n",
       "1       Juanna        Vines\n",
       "2       Altark       Susent\n",
       "3        Solam       Susent\n",
       "4        Willy  Santantines\n",
       "...        ...          ...\n",
       "12965    Jeron        Peter\n",
       "12966    Matty      Scheron\n",
       "12967   Jayrin         Pore\n",
       "12968  Kitakan       Conale\n",
       "12969   Lilace    Leonzaley\n",
       "\n",
       "[12970 rows x 2 columns]"
      ]
     },
     "execution_count": 8,
     "metadata": {},
     "output_type": "execute_result"
    }
   ],
   "source": [
    "titanic[\"Name\"].str.extract(r'(\\w+) (\\w+)')"
   ]
  },
  {
   "cell_type": "markdown",
   "id": "38c7a106-1324-4301-b528-b8b4a8caf4ed",
   "metadata": {
    "tags": []
   },
   "source": [
    "# Processing and Cleaning:"
   ]
  },
  {
   "cell_type": "markdown",
   "id": "d22a09b7-66e4-476d-9146-a193168c2c10",
   "metadata": {
    "tags": []
   },
   "source": [
    "## Imputing Nulls:"
   ]
  },
  {
   "cell_type": "code",
   "execution_count": 6,
   "id": "05d2912f-114d-4f15-8826-3ddd268b7605",
   "metadata": {
    "tags": []
   },
   "outputs": [],
   "source": [
    "def impute_common_by_group(titanic, row_index, col_name):\n",
    "    \"\"\"\n",
    "    if someone is a part of a group, impute the most common value in the group.\n",
    "    else, take most common from the whole training set.\n",
    "    \"\"\"\n",
    "    if titanic.loc[row_index, \"InGroup\"] == False: #not part of a group\n",
    "            \n",
    "        value_counts = titanic[col_name].value_counts()\n",
    "        most_common = titanic.loc[:train_size, col_name].value_counts().sort_values().index[-1]\n",
    "        \n",
    "        #if you want to impute from a probability distribution, use the commented code instead: \n",
    "        # cat_values = np.array(value_counts)\n",
    "        # cat_indices = np.array(value_counts.index)\n",
    "        # cat_values = cat_values / sum(cat_values)\n",
    "        # most_common = cat_indices[list(np.random.multinomial(1, cat_values)).index(1)]\n",
    "        \n",
    "        titanic.loc[row_index, col_name] = most_common\n",
    "        \n",
    "    else:\n",
    "        group_num = titanic.loc[row_index, \"PassengerGroup\"]\n",
    "        group = titanic[titanic[\"PassengerGroup\"] == group_num]\n",
    "        group_common = group[col_name].value_counts(dropna = False).sort_values()\n",
    "        if(len(group_common) == 1): #rest of the group is NaN too\n",
    "            titanic.loc[row_index, col_name] = titanic.loc[:train_size, col_name].value_counts().sort_values().index[-1]\n",
    "        else:\n",
    "            \n",
    "            value_counts = titanic[col_name].value_counts()\n",
    "            most_common = group[col_name].value_counts().sort_values().index[-1]\n",
    "\n",
    "            #if you want to impute from a probability distribution, use the commented code instead: \n",
    "            # cat_values = np.array(value_counts)\n",
    "            # cat_indices = np.array(value_counts.index)\n",
    "            # cat_values = cat_values / sum(cat_values)\n",
    "            # most_common = cat_indices[list(np.random.multinomial(1, cat_values)).index(1)]\n",
    "\n",
    "            titanic.loc[row_index, col_name] = most_common\n",
    "            \n",
    "def impute_median_by_group(titanic, row_index, col_name):\n",
    "    \"\"\"\n",
    "    if someone is a part of a group, impute the median value in the group.\n",
    "    else, take median from the whole training set.\n",
    "    \"\"\"\n",
    "    if titanic.loc[row_index, \"InGroup\"] == False: #not part of a group\n",
    "        average = titanic.loc[:train_size, col_name].median()\n",
    "        titanic.loc[row_index, col_name] = average\n",
    "        \n",
    "    else:\n",
    "        group_num = titanic.loc[row_index, \"PassengerGroup\"]\n",
    "        group = titanic[titanic[\"PassengerGroup\"] == group_num]\n",
    "        group_average = [element for element in group[col_name] if not np.isnan(element)]\n",
    "        if(group_average == []): #rest of group is nan too\n",
    "            titanic.loc[row_index, col_name] = titanic.loc[:train_size, col_name].median()\n",
    "        else:\n",
    "            titanic.loc[row_index, col_name] = group[col_name].median()"
   ]
  },
  {
   "cell_type": "markdown",
   "id": "f55786ee-d9ba-4e41-99a6-db6cf7339483",
   "metadata": {},
   "source": [
    "#### Current Method of Imputation:"
   ]
  },
  {
   "cell_type": "code",
   "execution_count": 7,
   "id": "c3cb055b-824d-4a99-abab-1271f1e84f3a",
   "metadata": {
    "tags": []
   },
   "outputs": [],
   "source": [
    "titanic_vips = titanic[titanic[\"VIP\"] == True]\n",
    "\n",
    "# VIP imputations (most-common and median):\n",
    "# imputing with other vip's values \n",
    "for col in [\"HomePlanet\", \"Destination\", \"CryoSleep\"]:\n",
    "    for row in list(titanic_vips[titanic_vips[col].isna()].index):\n",
    "        vip_most_common = titanic_vips[col].value_counts().sort_values().index[-1]\n",
    "        titanic.loc[row, col] = vip_most_common\n",
    "for col in [\"Age\"]:\n",
    "    for row in list(titanic_vips[titanic_vips[col].isna()].index):\n",
    "        vip_average = titanic_vips[col].median()\n",
    "        titanic.loc[row, col] = vip_average        \n",
    "        \n",
    "        \n",
    "#non-VIP most-commons and medians:\n",
    "for col in [\"HomePlanet\", \"Destination\", \"VIP\", \"CabinSide\", \"CabinDeck\"]:\n",
    "    for row in list(titanic[titanic[col].isna()].index):\n",
    "        impute_common_by_group(titanic, row, col)\n",
    "for col in [\"CryoSleep\"]:\n",
    "    for row in list(titanic[titanic[col].isna()].index):\n",
    "        if(titanic.loc[row, \"Amenities\"] == 0):\n",
    "            titanic.loc[row, col] = True\n",
    "        else:\n",
    "            impute_common_by_group(titanic, row, col)\n",
    "for col in [\"Age\"]:\n",
    "    for row in list(titanic[titanic[col].isna()].index):\n",
    "        impute_median_by_group(titanic, row, col)"
   ]
  },
  {
   "cell_type": "markdown",
   "id": "9fd239b3-65ba-43aa-8dea-6256dbd498a9",
   "metadata": {
    "tags": []
   },
   "source": [
    "## Dropping, Categorical Encoding, and Scaling: "
   ]
  },
  {
   "cell_type": "code",
   "execution_count": 8,
   "id": "566afe29-e69e-408a-aeaa-14ee6e0f9806",
   "metadata": {
    "tags": []
   },
   "outputs": [],
   "source": [
    "#Dropping\n",
    "titanic_clean = titanic.drop([\"Amenities\", \"PassengerId\", \"Cabin\", \"RoomService\", \"FoodCourt\", \"ShoppingMall\", \"Spa\", \"VRDeck\", \"Name\", \"PassengerGroup\"], axis = 1)"
   ]
  },
  {
   "cell_type": "code",
   "execution_count": 9,
   "id": "9d60eab0-b091-4656-8928-a7301238814e",
   "metadata": {
    "tags": []
   },
   "outputs": [],
   "source": [
    "#Encoding\n",
    "\n",
    "cabin_deck_list = [\"T\", \"E\", \"D\", \"F\", \"A\", \"G\", \"C\", \"B\"]\n",
    "# ordle = OrdinalEncoder(categories = cabin_deck_list) #welp, I don't know how this is supposed to work\n",
    "\n",
    "# manual ordered label:\n",
    "for col in [\"CabinDeck\"]:\n",
    "    for index, item in enumerate(cabin_deck_list):\n",
    "        titanic_clean.loc[titanic_clean[col] == item, col] = index\n",
    "        \n",
    "# label\n",
    "le = LabelEncoder()\n",
    "for col in [\"CryoSleep\", \"VIP\", \"CabinSide\", \"InGroup\"]:\n",
    "    titanic_clean[col] = le.fit_transform(titanic_clean[col])\n",
    "    \n",
    "# labeling everything but nans\n",
    "for col in [\"Transported\"]:\n",
    "    titanic_clean.loc[:train_size, col] = le.fit_transform(titanic_clean.loc[:train_size, col])\n",
    "    \n",
    "# #one-hot\n",
    "for col in [\"HomePlanet\", \"Destination\"]:\n",
    "    titanic_clean = pd.get_dummies(titanic_clean, columns=[col], prefix=[f'{col}_is'], drop_first = True)"
   ]
  },
  {
   "cell_type": "code",
   "execution_count": 10,
   "id": "a567d0ec-55e9-4fa9-8065-d3ec74005f01",
   "metadata": {
    "tags": []
   },
   "outputs": [],
   "source": [
    "#Scaling\n",
    "\n",
    "for col in [\"Age\", \"GoodAmenities\", \"BadAmenities\"]:\n",
    "    sc = StandardScaler()\n",
    "    fitted_scaler = sc.fit(pd.DataFrame(titanic_clean[:train_size][col]))\n",
    "    titanic_clean[col] = np.squeeze(fitted_scaler.transform(pd.DataFrame(titanic_clean[col])))"
   ]
  },
  {
   "cell_type": "code",
   "execution_count": 11,
   "id": "513a6d53-cfe7-4262-bf39-625c44976757",
   "metadata": {
    "tags": []
   },
   "outputs": [],
   "source": [
    "# restoring to train and test\n",
    "\n",
    "train = titanic_clean[:train_size].drop(\"index\", axis = 1)\n",
    "test = titanic_clean[train_size:].set_index(\"index\").drop(\"Transported\", axis = 1)"
   ]
  },
  {
   "cell_type": "markdown",
   "id": "8540e11f-943b-4805-b4f6-4280aba5baa3",
   "metadata": {
    "tags": []
   },
   "source": [
    "# ML Time:"
   ]
  },
  {
   "cell_type": "code",
   "execution_count": 12,
   "id": "428ce52e-939f-4490-865b-ab088e4b93e0",
   "metadata": {
    "tags": []
   },
   "outputs": [
    {
     "ename": "ModuleNotFoundError",
     "evalue": "No module named 'xgboost'",
     "output_type": "error",
     "traceback": [
      "\u001b[1;31m---------------------------------------------------------------------------\u001b[0m",
      "\u001b[1;31mModuleNotFoundError\u001b[0m                       Traceback (most recent call last)",
      "Cell \u001b[1;32mIn[12], line 4\u001b[0m\n\u001b[0;32m      2\u001b[0m \u001b[38;5;28;01mfrom\u001b[39;00m \u001b[38;5;21;01msklearn\u001b[39;00m\u001b[38;5;21;01m.\u001b[39;00m\u001b[38;5;21;01mneighbors\u001b[39;00m \u001b[38;5;28;01mimport\u001b[39;00m KNeighborsClassifier\n\u001b[0;32m      3\u001b[0m \u001b[38;5;28;01mfrom\u001b[39;00m \u001b[38;5;21;01msklearn\u001b[39;00m\u001b[38;5;21;01m.\u001b[39;00m\u001b[38;5;21;01mensemble\u001b[39;00m \u001b[38;5;28;01mimport\u001b[39;00m RandomForestClassifier, GradientBoostingClassifier, VotingClassifier\n\u001b[1;32m----> 4\u001b[0m \u001b[38;5;28;01mfrom\u001b[39;00m \u001b[38;5;21;01mxgboost\u001b[39;00m \u001b[38;5;28;01mimport\u001b[39;00m XGBClassifier\n\u001b[0;32m      5\u001b[0m \u001b[38;5;28;01mfrom\u001b[39;00m \u001b[38;5;21;01msklearn\u001b[39;00m\u001b[38;5;21;01m.\u001b[39;00m\u001b[38;5;21;01mmodel_selection\u001b[39;00m \u001b[38;5;28;01mimport\u001b[39;00m StratifiedKFold, KFold, cross_validate, cross_val_score\n\u001b[0;32m      6\u001b[0m \u001b[38;5;28;01mfrom\u001b[39;00m \u001b[38;5;21;01msklearn\u001b[39;00m\u001b[38;5;21;01m.\u001b[39;00m\u001b[38;5;21;01mmetrics\u001b[39;00m \u001b[38;5;28;01mimport\u001b[39;00m roc_curve, roc_auc_score\n",
      "\u001b[1;31mModuleNotFoundError\u001b[0m: No module named 'xgboost'"
     ]
    }
   ],
   "source": [
    "from sklearn.linear_model import LogisticRegression\n",
    "from sklearn.neighbors import KNeighborsClassifier\n",
    "from sklearn.ensemble import RandomForestClassifier, GradientBoostingClassifier, VotingClassifier\n",
    "from xgboost import XGBClassifier\n",
    "from sklearn.model_selection import StratifiedKFold, KFold, cross_validate, cross_val_score\n",
    "from sklearn.metrics import roc_curve, roc_auc_score\n",
    "from sklearn.model_selection import GridSearchCV"
   ]
  },
  {
   "cell_type": "markdown",
   "id": "e0324094-70b8-4a62-b061-6a552d9420ae",
   "metadata": {
    "tags": []
   },
   "source": [
    "## Simple Models:"
   ]
  },
  {
   "cell_type": "code",
   "execution_count": 23,
   "id": "0898ece0-8e4a-4786-b1e6-f18f24ae3c07",
   "metadata": {},
   "outputs": [],
   "source": [
    "y = np.array(train[\"Transported\"]).astype(int)\n",
    "X = np.array(train.drop(\"Transported\", axis = 1))"
   ]
  },
  {
   "cell_type": "code",
   "execution_count": 24,
   "id": "90f0da91-dc46-4d12-9766-f39e6ebd98d9",
   "metadata": {},
   "outputs": [],
   "source": [
    "# you can use cross_val_score, but I did this instead:\n",
    "def model_predict(clf, X_vals, y_vals):\n",
    "    skf = KFold(n_splits = 5, shuffle = True)\n",
    "    final_score = 0\n",
    "    total_auc = 0\n",
    "    for train_index, test_index in skf.split(X_vals, y_vals):\n",
    "        X_train, X_test = X_vals[train_index], X_vals[test_index]\n",
    "        y_train, y_test = y_vals[train_index], y_vals[test_index]\n",
    "        clf.fit(X_train, y_train)\n",
    "        preds = clf.predict(X_test)\n",
    "        score = clf.score(X_test, y_test)\n",
    "        final_score += score\n",
    "        \n",
    "        exact_preds = clf.predict_proba(X_test)[:,1]\n",
    "        total_auc += roc_auc_score(y_test, exact_preds)\n",
    "\n",
    "    print(f\"Accuracy Score: {final_score / 5:.1%}\")\n",
    "    print(f\"ROC AUC Score: {total_auc / 5}\")"
   ]
  },
  {
   "cell_type": "markdown",
   "id": "71a6aa40-796b-4961-a0d0-a7a5c2625e4d",
   "metadata": {
    "tags": []
   },
   "source": [
    "### Logistic Regression:"
   ]
  },
  {
   "cell_type": "code",
   "execution_count": 25,
   "id": "9a661892-be1d-40a7-88ed-0d14888ef57d",
   "metadata": {},
   "outputs": [
    {
     "name": "stdout",
     "output_type": "stream",
     "text": [
      "Accuracy Score: 79.1%\n",
      "ROC AUC Score: 0.875054829331084\n"
     ]
    }
   ],
   "source": [
    "# Naive: 72.7, 0.781\n",
    "# Smarter: 73.0, 0.785\n",
    "# Splitting Amenities: 79.1, 0.875\n",
    "model_predict(LogisticRegression(), X, y)"
   ]
  },
  {
   "cell_type": "markdown",
   "id": "dc285966-38b6-4a5b-a1c9-bc5a83c705f1",
   "metadata": {
    "tags": []
   },
   "source": [
    "### KNN:"
   ]
  },
  {
   "cell_type": "code",
   "execution_count": 26,
   "id": "fe434882-9e3e-435c-83dc-28a75397e0c2",
   "metadata": {},
   "outputs": [
    {
     "name": "stdout",
     "output_type": "stream",
     "text": [
      "Accuracy Score: 78.7%\n",
      "ROC AUC Score: 0.8758501970866291\n"
     ]
    }
   ],
   "source": [
    "# Naive: 74.1, 0.798\n",
    "# Smarter: 74.6, 0.804\n",
    "# Splitting Amenities: 78.7, 0.876\n",
    "model_predict(KNeighborsClassifier(n_neighbors = 25), X, y)"
   ]
  },
  {
   "cell_type": "markdown",
   "id": "1b3f3f7a-15f3-4ddc-9425-ca6c3394eb77",
   "metadata": {
    "tags": []
   },
   "source": [
    "### Random Forest:"
   ]
  },
  {
   "cell_type": "code",
   "execution_count": 27,
   "id": "df95e537-b968-43ed-a4d7-5fccb39fa048",
   "metadata": {},
   "outputs": [
    {
     "name": "stdout",
     "output_type": "stream",
     "text": [
      "Accuracy Score: 80.7%\n",
      "ROC AUC Score: 0.8905448957935984\n"
     ]
    }
   ],
   "source": [
    "# Naive: 74.3, 0.803\n",
    "# Smarter: 75.1, 0.811\n",
    "# Splitting Amenities: 80.7, 0.890\n",
    "model_predict(RandomForestClassifier(max_depth = 10), X, y)"
   ]
  },
  {
   "cell_type": "markdown",
   "id": "b737c2c4-4409-4968-89fb-72e56d5c63c0",
   "metadata": {},
   "source": [
    "### Gradient Boosting:"
   ]
  },
  {
   "cell_type": "code",
   "execution_count": 28,
   "id": "6cb9b7bc-6e3b-498a-b483-0ffd500b36ec",
   "metadata": {},
   "outputs": [
    {
     "name": "stdout",
     "output_type": "stream",
     "text": [
      "Accuracy Score: 80.3%\n",
      "ROC AUC Score: 0.8928416102859865\n"
     ]
    }
   ],
   "source": [
    "# Naive: 74.3, 0.804\n",
    "# Smarter: 74.8, 0.811\n",
    "# Splitting Amenities: 80.3, 0.893\n",
    "model_predict(GradientBoostingClassifier(n_estimators = 100), X, y)"
   ]
  },
  {
   "cell_type": "markdown",
   "id": "39734758-8ee9-404e-8c6e-aaa6f559e435",
   "metadata": {},
   "source": [
    "### Extreme GB:"
   ]
  },
  {
   "cell_type": "code",
   "execution_count": 30,
   "id": "d517a4a7-e37e-4113-86bd-657f8b2da0f3",
   "metadata": {},
   "outputs": [
    {
     "name": "stdout",
     "output_type": "stream",
     "text": [
      "[10:09:27] WARNING: C:/Users/Administrator/workspace/xgboost-win64_release_1.5.1/src/learner.cc:1115: Starting in XGBoost 1.3.0, the default evaluation metric used with the objective 'binary:logistic' was changed from 'error' to 'logloss'. Explicitly set eval_metric if you'd like to restore the old behavior.\n",
      "[10:09:30] WARNING: C:/Users/Administrator/workspace/xgboost-win64_release_1.5.1/src/learner.cc:1115: Starting in XGBoost 1.3.0, the default evaluation metric used with the objective 'binary:logistic' was changed from 'error' to 'logloss'. Explicitly set eval_metric if you'd like to restore the old behavior.\n",
      "[10:09:32] WARNING: C:/Users/Administrator/workspace/xgboost-win64_release_1.5.1/src/learner.cc:1115: Starting in XGBoost 1.3.0, the default evaluation metric used with the objective 'binary:logistic' was changed from 'error' to 'logloss'. Explicitly set eval_metric if you'd like to restore the old behavior.\n",
      "[10:09:35] WARNING: C:/Users/Administrator/workspace/xgboost-win64_release_1.5.1/src/learner.cc:1115: Starting in XGBoost 1.3.0, the default evaluation metric used with the objective 'binary:logistic' was changed from 'error' to 'logloss'. Explicitly set eval_metric if you'd like to restore the old behavior.\n",
      "[10:09:36] WARNING: C:/Users/Administrator/workspace/xgboost-win64_release_1.5.1/src/learner.cc:1115: Starting in XGBoost 1.3.0, the default evaluation metric used with the objective 'binary:logistic' was changed from 'error' to 'logloss'. Explicitly set eval_metric if you'd like to restore the old behavior.\n",
      "Accuracy Score: 79.9%\n",
      "ROC AUC Score: 0.8875894821501953\n"
     ]
    }
   ],
   "source": [
    "# Splitting Amenities: 79.9, 0.888\n",
    "model_predict(XGBClassifier(use_label_encoder = False), X, y)"
   ]
  },
  {
   "cell_type": "markdown",
   "id": "d13d03db-9825-4ade-9053-cc4db0754d1a",
   "metadata": {},
   "source": [
    "### Cross-val:"
   ]
  },
  {
   "cell_type": "code",
   "execution_count": 31,
   "id": "39942563-3d11-4416-9bdc-bf3e1f2f8955",
   "metadata": {},
   "outputs": [
    {
     "data": {
      "text/plain": [
       "0.7870721172902698"
      ]
     },
     "execution_count": 31,
     "metadata": {},
     "output_type": "execute_result"
    }
   ],
   "source": [
    "cvs = cross_val_score(RandomForestClassifier(), X, y, cv = 5)\n",
    "cvs.mean()"
   ]
  },
  {
   "cell_type": "markdown",
   "id": "c0364a2b-35aa-417d-828d-e833b6a39adb",
   "metadata": {},
   "source": [
    "### General Explanation of Attempts:"
   ]
  },
  {
   "cell_type": "markdown",
   "id": "4ff6910e-2f48-45c4-a345-7be4e3b663fe",
   "metadata": {},
   "source": [
    " 1. Filled everything naively with means and most-commons (should have done medians, but eh)\n",
    " 2. Added group filling (look at impute_common/median_by_group for details)\n",
    " \n",
    "     2.5. Added ordered label encoding for cabindeck, didn't make much difference\n",
    " \n",
    " 3. Split amenities into two columns for \"good\" (more spending correlated with lower tranport rate) and \"bad\"\n",
    " \n",
    " 4. Might try NOT filling every non-group person with total most-common, but instead taking probabilities of each category and randomly choosing from there to preserve the percentages."
   ]
  },
  {
   "cell_type": "markdown",
   "id": "92eac28f-b888-4f8d-8f63-364c0b788c34",
   "metadata": {
    "tags": []
   },
   "source": [
    "## Ensembled/Complex Models:"
   ]
  },
  {
   "cell_type": "markdown",
   "id": "a4cdab2a-e4a5-4021-8458-f60e7f914a87",
   "metadata": {
    "tags": []
   },
   "source": [
    "### Grid Searching for Hyperparameters:"
   ]
  },
  {
   "cell_type": "markdown",
   "id": "66c7ef5c-cfd7-49c2-8b5e-d6ab39dc89f1",
   "metadata": {
    "tags": []
   },
   "source": [
    "#### Random Forest:"
   ]
  },
  {
   "cell_type": "code",
   "execution_count": 632,
   "id": "acf23d04-4149-40a3-8bbd-fd68afc3a525",
   "metadata": {},
   "outputs": [],
   "source": [
    "#grid_search for random forest:\n",
    "params = {'min_samples_split' : [2, 5, 7, 10], 'min_samples_leaf' : [1, 2, 3, 5]}\n",
    "gcv = GridSearchCV(RandomForestClassifier(n_estimators = 100, max_depth = 10), params, cv = 3, verbose = True)"
   ]
  },
  {
   "cell_type": "code",
   "execution_count": 633,
   "id": "cb6a9c5b-c518-49b8-b488-a42e6c95b317",
   "metadata": {},
   "outputs": [
    {
     "name": "stdout",
     "output_type": "stream",
     "text": [
      "Fitting 3 folds for each of 16 candidates, totalling 48 fits\n"
     ]
    },
    {
     "data": {
      "text/plain": [
       "GridSearchCV(cv=3, estimator=RandomForestClassifier(max_depth=10),\n",
       "             param_grid={'min_samples_leaf': [1, 2, 3, 5],\n",
       "                         'min_samples_split': [2, 5, 7, 10]},\n",
       "             verbose=True)"
      ]
     },
     "execution_count": 633,
     "metadata": {},
     "output_type": "execute_result"
    }
   ],
   "source": [
    "gcv.fit(X, y)"
   ]
  },
  {
   "cell_type": "code",
   "execution_count": 634,
   "id": "89d16f08-61ea-4094-a141-d1dcc783864d",
   "metadata": {},
   "outputs": [
    {
     "name": "stdout",
     "output_type": "stream",
     "text": [
      "{'min_samples_leaf': 3, 'min_samples_split': 7}\n",
      "0.8046718486453744\n",
      "RandomForestClassifier(max_depth=10, min_samples_leaf=3, min_samples_split=7)\n"
     ]
    }
   ],
   "source": [
    "print(gcv.best_params_)\n",
    "print(gcv.best_score_)\n",
    "print(gcv.best_estimator_)"
   ]
  },
  {
   "cell_type": "markdown",
   "id": "a3e31357-2cdb-41cf-81ee-fafbecfac474",
   "metadata": {
    "tags": []
   },
   "source": [
    "#### Gradient Boosting:"
   ]
  },
  {
   "cell_type": "code",
   "execution_count": 646,
   "id": "c6b8407d-8dc7-4f58-86db-c5751ead121d",
   "metadata": {},
   "outputs": [],
   "source": [
    "#grid_search for gradient boosting:\n",
    "params = {'n_estimators' : [100, 200, 300, 400, 500], 'learning_rate' : [0.0001, 0.001, 0.01, 0.1]}\n",
    "gcv_gcb = GridSearchCV(GradientBoostingClassifier(), params, cv = 3, verbose = True)"
   ]
  },
  {
   "cell_type": "code",
   "execution_count": 647,
   "id": "937f01dd-7bfa-4fa7-9722-835b05b38383",
   "metadata": {},
   "outputs": [
    {
     "name": "stdout",
     "output_type": "stream",
     "text": [
      "Fitting 3 folds for each of 20 candidates, totalling 60 fits\n"
     ]
    },
    {
     "data": {
      "text/plain": [
       "GridSearchCV(cv=3, estimator=GradientBoostingClassifier(),\n",
       "             param_grid={'learning_rate': [0.0001, 0.001, 0.01, 0.1],\n",
       "                         'n_estimators': [100, 200, 300, 400, 500]},\n",
       "             verbose=True)"
      ]
     },
     "execution_count": 647,
     "metadata": {},
     "output_type": "execute_result"
    }
   ],
   "source": [
    "gcv_gcb.fit(X, y)"
   ]
  },
  {
   "cell_type": "code",
   "execution_count": 648,
   "id": "6510e3db-5e84-437b-947a-b2acd14fb020",
   "metadata": {},
   "outputs": [
    {
     "name": "stdout",
     "output_type": "stream",
     "text": [
      "{'learning_rate': 0.1, 'n_estimators': 200}\n",
      "0.800875730420537\n",
      "GradientBoostingClassifier(n_estimators=200)\n"
     ]
    }
   ],
   "source": [
    "print(gcv_gcb.best_params_)\n",
    "print(gcv_gcb.best_score_)\n",
    "print(gcv_gcb.best_estimator_)"
   ]
  },
  {
   "cell_type": "markdown",
   "id": "05d3ce4b-8ee8-4f00-8610-c932e2eb5cb0",
   "metadata": {},
   "source": [
    "### VotingClassifier:"
   ]
  },
  {
   "cell_type": "code",
   "execution_count": 32,
   "id": "689abb4d-6401-4098-a40f-6e8f28587aee",
   "metadata": {},
   "outputs": [
    {
     "name": "stdout",
     "output_type": "stream",
     "text": [
      "Accuracy Score: 80.4%\n",
      "ROC AUC Score: 0.8928830227184269\n"
     ]
    }
   ],
   "source": [
    "m1 = RandomForestClassifier(max_depth = 10, min_samples_leaf = 3)\n",
    "m2 = GradientBoostingClassifier(n_estimators = 200)\n",
    "\n",
    "vc = VotingClassifier(estimators=[('rfc', m1), ('gb', m2)], voting='soft')\n",
    "model_predict(vc, X, y)"
   ]
  },
  {
   "cell_type": "markdown",
   "id": "065d83a5-5ff4-4544-91e8-c785421e75af",
   "metadata": {
    "tags": []
   },
   "source": [
    "# Submitting:"
   ]
  },
  {
   "cell_type": "code",
   "execution_count": 33,
   "id": "8b491620-84dc-463e-8a25-664250df1e73",
   "metadata": {},
   "outputs": [],
   "source": [
    "train_X = train.drop(\"Transported\", axis = 1)\n",
    "train_y = train[\"Transported\"].astype(int)"
   ]
  },
  {
   "cell_type": "code",
   "execution_count": 34,
   "id": "4da92345-35ec-4319-a230-d0d2a16050b7",
   "metadata": {},
   "outputs": [
    {
     "name": "stdout",
     "output_type": "stream",
     "text": [
      "[0.70862094 0.0529179  0.99468133 ... 0.92993239 0.52806153 0.65253634]\n",
      "[1.41573011 0.101643   1.99226478 ... 1.86835386 1.06806294 1.30795686]\n",
      "[2.11705208 0.15450077 2.98952913 ... 2.79387764 1.59290598 1.97044617]\n",
      "[2.81809649 0.21055765 3.98744425 ... 3.7193082  2.15289821 2.59867753]\n",
      "[3.53010654 0.26501807 4.98521578 ... 4.64922403 2.67966065 3.25907382]\n"
     ]
    }
   ],
   "source": [
    "#fitting and predicting 5 times, taking averages and rounding\n",
    "\n",
    "num_fits = 5\n",
    "pred_probas = np.array([0.0] * test_size)\n",
    "for _ in range(num_fits):\n",
    "    vc.fit(train_X, train_y)\n",
    "    preds = vc.predict_proba(test)\n",
    "    array_preds = np.array(preds[:, 1])\n",
    "    pred_probas += array_preds\n",
    "    print(pred_probas)\n",
    "pred_probas /= 5\n",
    "final_preds = pred_probas.round()"
   ]
  },
  {
   "cell_type": "code",
   "execution_count": 35,
   "id": "68e86e23-324f-4b8a-9ed9-6643d867ded7",
   "metadata": {},
   "outputs": [],
   "source": [
    "submission = pd.DataFrame()\n",
    "submission[\"PassengerId\"] = test_passengerid\n",
    "submission[\"Transported\"] = final_preds.astype(\"bool\")"
   ]
  },
  {
   "cell_type": "code",
   "execution_count": 686,
   "id": "744cd727-cef8-4fef-a9d1-1cb14c5678af",
   "metadata": {},
   "outputs": [],
   "source": [
    "submission.to_csv(\"submission2.csv\", index = False)"
   ]
  },
  {
   "cell_type": "code",
   "execution_count": 36,
   "id": "c6c6d0a0-b037-4af3-9781-fe537998afe4",
   "metadata": {},
   "outputs": [
    {
     "data": {
      "text/html": [
       "<div>\n",
       "<style scoped>\n",
       "    .dataframe tbody tr th:only-of-type {\n",
       "        vertical-align: middle;\n",
       "    }\n",
       "\n",
       "    .dataframe tbody tr th {\n",
       "        vertical-align: top;\n",
       "    }\n",
       "\n",
       "    .dataframe thead th {\n",
       "        text-align: right;\n",
       "    }\n",
       "</style>\n",
       "<table border=\"1\" class=\"dataframe\">\n",
       "  <thead>\n",
       "    <tr style=\"text-align: right;\">\n",
       "      <th></th>\n",
       "      <th>PassengerId</th>\n",
       "      <th>Transported</th>\n",
       "    </tr>\n",
       "  </thead>\n",
       "  <tbody>\n",
       "    <tr>\n",
       "      <th>0</th>\n",
       "      <td>0013_01</td>\n",
       "      <td>True</td>\n",
       "    </tr>\n",
       "    <tr>\n",
       "      <th>1</th>\n",
       "      <td>0018_01</td>\n",
       "      <td>False</td>\n",
       "    </tr>\n",
       "    <tr>\n",
       "      <th>2</th>\n",
       "      <td>0019_01</td>\n",
       "      <td>True</td>\n",
       "    </tr>\n",
       "    <tr>\n",
       "      <th>3</th>\n",
       "      <td>0021_01</td>\n",
       "      <td>True</td>\n",
       "    </tr>\n",
       "    <tr>\n",
       "      <th>4</th>\n",
       "      <td>0023_01</td>\n",
       "      <td>True</td>\n",
       "    </tr>\n",
       "    <tr>\n",
       "      <th>...</th>\n",
       "      <td>...</td>\n",
       "      <td>...</td>\n",
       "    </tr>\n",
       "    <tr>\n",
       "      <th>4272</th>\n",
       "      <td>9266_02</td>\n",
       "      <td>True</td>\n",
       "    </tr>\n",
       "    <tr>\n",
       "      <th>4273</th>\n",
       "      <td>9269_01</td>\n",
       "      <td>True</td>\n",
       "    </tr>\n",
       "    <tr>\n",
       "      <th>4274</th>\n",
       "      <td>9271_01</td>\n",
       "      <td>True</td>\n",
       "    </tr>\n",
       "    <tr>\n",
       "      <th>4275</th>\n",
       "      <td>9273_01</td>\n",
       "      <td>True</td>\n",
       "    </tr>\n",
       "    <tr>\n",
       "      <th>4276</th>\n",
       "      <td>9277_01</td>\n",
       "      <td>True</td>\n",
       "    </tr>\n",
       "  </tbody>\n",
       "</table>\n",
       "<p>4277 rows × 2 columns</p>\n",
       "</div>"
      ],
      "text/plain": [
       "     PassengerId  Transported\n",
       "0        0013_01         True\n",
       "1        0018_01        False\n",
       "2        0019_01         True\n",
       "3        0021_01         True\n",
       "4        0023_01         True\n",
       "...          ...          ...\n",
       "4272     9266_02         True\n",
       "4273     9269_01         True\n",
       "4274     9271_01         True\n",
       "4275     9273_01         True\n",
       "4276     9277_01         True\n",
       "\n",
       "[4277 rows x 2 columns]"
      ]
     },
     "execution_count": 36,
     "metadata": {},
     "output_type": "execute_result"
    }
   ],
   "source": [
    "submission"
   ]
  }
 ],
 "metadata": {
  "kernelspec": {
   "display_name": "Python 3 (ipykernel)",
   "language": "python",
   "name": "python3"
  },
  "language_info": {
   "codemirror_mode": {
    "name": "ipython",
    "version": 3
   },
   "file_extension": ".py",
   "mimetype": "text/x-python",
   "name": "python",
   "nbconvert_exporter": "python",
   "pygments_lexer": "ipython3",
   "version": "3.11.3"
  }
 },
 "nbformat": 4,
 "nbformat_minor": 5
}
